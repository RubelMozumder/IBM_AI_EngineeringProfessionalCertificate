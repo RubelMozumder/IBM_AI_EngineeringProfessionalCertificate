{
 "cells": [
  {
   "cell_type": "markdown",
   "metadata": {
    "button": false,
    "new_sheet": false,
    "run_control": {
     "read_only": false
    }
   },
   "source": [
    "<a href=\"https://cognitiveclass.ai/?utm_medium=Exinfluencer&utm_source=Exinfluencer&utm_content=000026UJ&utm_term=10006555&utm_id=NA-SkillsNetwork-Channel-SkillsNetworkCoursesIBMDeveloperSkillsNetworkDL0101ENSkillsNetwork20718188-2021-01-01\"><img src = \"https://s3-api.us-geo.objectstorage.softlayer.net/cf-courses-data/CognitiveClass/Logos/organization_logo/organization_logo.png\" width = 400> </a>\n",
    "\n",
    "<h1 align=center><font size = 5>Regression Models with Keras</font></h1>\n"
   ]
  },
  {
   "cell_type": "markdown",
   "metadata": {
    "button": false,
    "new_sheet": false,
    "run_control": {
     "read_only": false
    }
   },
   "source": [
    "## Introduction\n"
   ]
  },
  {
   "cell_type": "markdown",
   "metadata": {
    "button": false,
    "new_sheet": false,
    "run_control": {
     "read_only": false
    }
   },
   "source": [
    "As we discussed in the videos, despite the popularity of more powerful libraries such as PyToch and TensorFlow, they are not easy to use and have a steep learning curve. So, for people who are just starting to learn deep learning, there is no better library to use other than the Keras library.\n",
    "\n",
    "Keras is a high-level API for building deep learning models. It has gained favor for its ease of use and syntactic simplicity facilitating fast development. As you will see in this lab and the other labs in this course, building a very complex deep learning network can be achieved with Keras with only few lines of code. You will appreciate Keras even more, once you learn how to build deep models using PyTorch and TensorFlow in the other courses.\n",
    "\n",
    "So, in this lab, you will learn how to use the Keras library to build a regression model.\n"
   ]
  },
  {
   "cell_type": "markdown",
   "metadata": {},
   "source": [
    "<h2>Regression Models with Keras</h2>\n",
    "\n",
    "<h3>Objective for this Notebook<h3>    \n",
    "<h5> 1. How to use the Keras library to build a regression model.</h5>\n",
    "<h5> 2. Download and Clean dataset </h5>\n",
    "<h5> 3. Build a Neural Network </h5>\n",
    "<h5> 4. Train and Test the Network. </h5>     \n"
   ]
  },
  {
   "cell_type": "markdown",
   "metadata": {
    "button": false,
    "new_sheet": false,
    "run_control": {
     "read_only": false
    }
   },
   "source": [
    "## Table of Contents\n",
    "\n",
    "<div class=\"alert alert-block alert-info\" style=\"margin-top: 20px\">\n",
    "\n",
    "<font size = 3>\n",
    "\n",
    "1.  <a href=\"https://#item31\">Download and Clean Dataset</a>\n",
    "2.  <a href=\"https://#item32\">Import Keras</a>\n",
    "3.  <a href=\"https://#item33\">Build a Neural Network</a>\n",
    "4.  <a href=\"https://#item34\">Train and Test the Network</a>\n",
    "\n",
    "</font>\n",
    "</div>\n"
   ]
  },
  {
   "cell_type": "markdown",
   "metadata": {
    "button": false,
    "new_sheet": false,
    "run_control": {
     "read_only": false
    }
   },
   "source": [
    "<a id=\"item31\"></a>\n"
   ]
  },
  {
   "cell_type": "markdown",
   "metadata": {
    "button": false,
    "new_sheet": false,
    "run_control": {
     "read_only": false
    }
   },
   "source": [
    "## Download and Clean Dataset\n"
   ]
  },
  {
   "cell_type": "markdown",
   "metadata": {
    "button": false,
    "new_sheet": false,
    "run_control": {
     "read_only": false
    }
   },
   "source": [
    "Let's start by importing the <em>pandas</em> and the Numpy libraries.\n"
   ]
  },
  {
   "cell_type": "code",
   "execution_count": 5,
   "metadata": {},
   "outputs": [],
   "source": [
    "# All Libraries required for this lab are listed below. The libraries pre-installed on Skills Network Labs are commented. \n",
    "# If you run this notebook on a different environment, e.g. your desktop, you may need to uncomment and install certain libraries.\n",
    "\n",
    "#!pip install numpy==1.21.4\n",
    "#!pip install pandas==1.3.4\n",
    "#!pip install keras==2.1.6"
   ]
  },
  {
   "cell_type": "code",
   "execution_count": 6,
   "metadata": {
    "button": false,
    "new_sheet": false,
    "run_control": {
     "read_only": false
    }
   },
   "outputs": [],
   "source": [
    "import pandas as pd\n",
    "import numpy as np"
   ]
  },
  {
   "cell_type": "markdown",
   "metadata": {
    "button": false,
    "new_sheet": false,
    "run_control": {
     "read_only": false
    }
   },
   "source": [
    "We will be playing around with the same dataset that we used in the videos.\n",
    "\n",
    "<strong>The dataset is about the compressive strength of different samples of concrete based on the volumes of the different ingredients that were used to make them. Ingredients include:</strong>\n",
    "\n",
    "<strong>1. Cement</strong>\n",
    "\n",
    "<strong>2. Blast Furnace Slag</strong>\n",
    "\n",
    "<strong>3. Fly Ash</strong>\n",
    "\n",
    "<strong>4. Water</strong>\n",
    "\n",
    "<strong>5. Superplasticizer</strong>\n",
    "\n",
    "<strong>6. Coarse Aggregate</strong>\n",
    "\n",
    "<strong>7. Fine Aggregate</strong>\n"
   ]
  },
  {
   "cell_type": "markdown",
   "metadata": {
    "button": false,
    "new_sheet": false,
    "run_control": {
     "read_only": false
    }
   },
   "source": [
    "Let's download the data and read it into a <em>pandas</em> dataframe.\n"
   ]
  },
  {
   "cell_type": "code",
   "execution_count": 7,
   "metadata": {
    "button": false,
    "new_sheet": false,
    "run_control": {
     "read_only": false
    }
   },
   "outputs": [],
   "source": [
    "#concrete_data = pd.read_csv('https://s3-api.us-geo.objectstorage.softlayer.net/cf-courses-data/CognitiveClass/DL0101EN/labs/data/concrete_data.csv')\n",
    "#concrete_data.head()\n",
    "\n",
    "#!wget -O concrete_data.csv 'https://s3-api.us-geo.objectstorage.softlayer.net/cf-courses-data/CognitiveClass/DL0101EN/labs/data/concrete_data.csv'\n",
    "\n",
    "concrete_data = pd.read_csv('concrete_data.csv')"
   ]
  },
  {
   "cell_type": "markdown",
   "metadata": {
    "button": false,
    "new_sheet": false,
    "run_control": {
     "read_only": false
    }
   },
   "source": [
    "So the first concrete sample has 540 cubic meter of cement, 0 cubic meter of blast furnace slag, 0 cubic meter of fly ash, 162 cubic meter of water, 2.5 cubic meter of superplaticizer, 1040 cubic meter of coarse aggregate, 676 cubic meter of fine aggregate. Such a concrete mix which is 28 days old, has a compressive strength of 79.99 MPa.\n"
   ]
  },
  {
   "cell_type": "markdown",
   "metadata": {
    "button": false,
    "new_sheet": false,
    "run_control": {
     "read_only": false
    }
   },
   "source": [
    "#### Let's check how many data points we have.\n"
   ]
  },
  {
   "cell_type": "code",
   "execution_count": 8,
   "metadata": {
    "button": false,
    "new_sheet": false,
    "run_control": {
     "read_only": false
    }
   },
   "outputs": [
    {
     "data": {
      "text/plain": [
       "(1030, 9)"
      ]
     },
     "execution_count": 8,
     "metadata": {},
     "output_type": "execute_result"
    }
   ],
   "source": [
    "concrete_data.shape"
   ]
  },
  {
   "cell_type": "markdown",
   "metadata": {
    "button": false,
    "new_sheet": false,
    "run_control": {
     "read_only": false
    }
   },
   "source": [
    "So, there are approximately 1000 samples to train our model on. Because of the few samples, we have to be careful not to overfit the training data.\n"
   ]
  },
  {
   "cell_type": "markdown",
   "metadata": {
    "button": false,
    "new_sheet": false,
    "run_control": {
     "read_only": false
    }
   },
   "source": [
    "Let's check the dataset for any missing values.\n"
   ]
  },
  {
   "cell_type": "code",
   "execution_count": 9,
   "metadata": {
    "button": false,
    "new_sheet": false,
    "run_control": {
     "read_only": false
    }
   },
   "outputs": [
    {
     "data": {
      "text/html": [
       "<div>\n",
       "<style scoped>\n",
       "    .dataframe tbody tr th:only-of-type {\n",
       "        vertical-align: middle;\n",
       "    }\n",
       "\n",
       "    .dataframe tbody tr th {\n",
       "        vertical-align: top;\n",
       "    }\n",
       "\n",
       "    .dataframe thead th {\n",
       "        text-align: right;\n",
       "    }\n",
       "</style>\n",
       "<table border=\"1\" class=\"dataframe\">\n",
       "  <thead>\n",
       "    <tr style=\"text-align: right;\">\n",
       "      <th></th>\n",
       "      <th>Cement</th>\n",
       "      <th>Blast Furnace Slag</th>\n",
       "      <th>Fly Ash</th>\n",
       "      <th>Water</th>\n",
       "      <th>Superplasticizer</th>\n",
       "      <th>Coarse Aggregate</th>\n",
       "      <th>Fine Aggregate</th>\n",
       "      <th>Age</th>\n",
       "      <th>Strength</th>\n",
       "    </tr>\n",
       "  </thead>\n",
       "  <tbody>\n",
       "    <tr>\n",
       "      <th>count</th>\n",
       "      <td>1030.000000</td>\n",
       "      <td>1030.000000</td>\n",
       "      <td>1030.000000</td>\n",
       "      <td>1030.000000</td>\n",
       "      <td>1030.000000</td>\n",
       "      <td>1030.000000</td>\n",
       "      <td>1030.000000</td>\n",
       "      <td>1030.000000</td>\n",
       "      <td>1030.000000</td>\n",
       "    </tr>\n",
       "    <tr>\n",
       "      <th>mean</th>\n",
       "      <td>281.167864</td>\n",
       "      <td>73.895825</td>\n",
       "      <td>54.188350</td>\n",
       "      <td>181.567282</td>\n",
       "      <td>6.204660</td>\n",
       "      <td>972.918932</td>\n",
       "      <td>773.580485</td>\n",
       "      <td>45.662136</td>\n",
       "      <td>35.817961</td>\n",
       "    </tr>\n",
       "    <tr>\n",
       "      <th>std</th>\n",
       "      <td>104.506364</td>\n",
       "      <td>86.279342</td>\n",
       "      <td>63.997004</td>\n",
       "      <td>21.354219</td>\n",
       "      <td>5.973841</td>\n",
       "      <td>77.753954</td>\n",
       "      <td>80.175980</td>\n",
       "      <td>63.169912</td>\n",
       "      <td>16.705742</td>\n",
       "    </tr>\n",
       "    <tr>\n",
       "      <th>min</th>\n",
       "      <td>102.000000</td>\n",
       "      <td>0.000000</td>\n",
       "      <td>0.000000</td>\n",
       "      <td>121.800000</td>\n",
       "      <td>0.000000</td>\n",
       "      <td>801.000000</td>\n",
       "      <td>594.000000</td>\n",
       "      <td>1.000000</td>\n",
       "      <td>2.330000</td>\n",
       "    </tr>\n",
       "    <tr>\n",
       "      <th>25%</th>\n",
       "      <td>192.375000</td>\n",
       "      <td>0.000000</td>\n",
       "      <td>0.000000</td>\n",
       "      <td>164.900000</td>\n",
       "      <td>0.000000</td>\n",
       "      <td>932.000000</td>\n",
       "      <td>730.950000</td>\n",
       "      <td>7.000000</td>\n",
       "      <td>23.710000</td>\n",
       "    </tr>\n",
       "    <tr>\n",
       "      <th>50%</th>\n",
       "      <td>272.900000</td>\n",
       "      <td>22.000000</td>\n",
       "      <td>0.000000</td>\n",
       "      <td>185.000000</td>\n",
       "      <td>6.400000</td>\n",
       "      <td>968.000000</td>\n",
       "      <td>779.500000</td>\n",
       "      <td>28.000000</td>\n",
       "      <td>34.445000</td>\n",
       "    </tr>\n",
       "    <tr>\n",
       "      <th>75%</th>\n",
       "      <td>350.000000</td>\n",
       "      <td>142.950000</td>\n",
       "      <td>118.300000</td>\n",
       "      <td>192.000000</td>\n",
       "      <td>10.200000</td>\n",
       "      <td>1029.400000</td>\n",
       "      <td>824.000000</td>\n",
       "      <td>56.000000</td>\n",
       "      <td>46.135000</td>\n",
       "    </tr>\n",
       "    <tr>\n",
       "      <th>max</th>\n",
       "      <td>540.000000</td>\n",
       "      <td>359.400000</td>\n",
       "      <td>200.100000</td>\n",
       "      <td>247.000000</td>\n",
       "      <td>32.200000</td>\n",
       "      <td>1145.000000</td>\n",
       "      <td>992.600000</td>\n",
       "      <td>365.000000</td>\n",
       "      <td>82.600000</td>\n",
       "    </tr>\n",
       "  </tbody>\n",
       "</table>\n",
       "</div>"
      ],
      "text/plain": [
       "            Cement  Blast Furnace Slag  ...          Age     Strength\n",
       "count  1030.000000         1030.000000  ...  1030.000000  1030.000000\n",
       "mean    281.167864           73.895825  ...    45.662136    35.817961\n",
       "std     104.506364           86.279342  ...    63.169912    16.705742\n",
       "min     102.000000            0.000000  ...     1.000000     2.330000\n",
       "25%     192.375000            0.000000  ...     7.000000    23.710000\n",
       "50%     272.900000           22.000000  ...    28.000000    34.445000\n",
       "75%     350.000000          142.950000  ...    56.000000    46.135000\n",
       "max     540.000000          359.400000  ...   365.000000    82.600000\n",
       "\n",
       "[8 rows x 9 columns]"
      ]
     },
     "execution_count": 9,
     "metadata": {},
     "output_type": "execute_result"
    }
   ],
   "source": [
    "concrete_data.describe()"
   ]
  },
  {
   "cell_type": "code",
   "execution_count": 10,
   "metadata": {
    "button": false,
    "new_sheet": false,
    "run_control": {
     "read_only": false
    }
   },
   "outputs": [
    {
     "data": {
      "text/html": [
       "<div>\n",
       "<style scoped>\n",
       "    .dataframe tbody tr th:only-of-type {\n",
       "        vertical-align: middle;\n",
       "    }\n",
       "\n",
       "    .dataframe tbody tr th {\n",
       "        vertical-align: top;\n",
       "    }\n",
       "\n",
       "    .dataframe thead th {\n",
       "        text-align: right;\n",
       "    }\n",
       "</style>\n",
       "<table border=\"1\" class=\"dataframe\">\n",
       "  <thead>\n",
       "    <tr style=\"text-align: right;\">\n",
       "      <th></th>\n",
       "      <th>Cement</th>\n",
       "      <th>Blast Furnace Slag</th>\n",
       "      <th>Fly Ash</th>\n",
       "      <th>Water</th>\n",
       "      <th>Superplasticizer</th>\n",
       "      <th>Coarse Aggregate</th>\n",
       "      <th>Fine Aggregate</th>\n",
       "      <th>Age</th>\n",
       "      <th>Strength</th>\n",
       "    </tr>\n",
       "  </thead>\n",
       "  <tbody>\n",
       "    <tr>\n",
       "      <th>0</th>\n",
       "      <td>False</td>\n",
       "      <td>False</td>\n",
       "      <td>False</td>\n",
       "      <td>False</td>\n",
       "      <td>False</td>\n",
       "      <td>False</td>\n",
       "      <td>False</td>\n",
       "      <td>False</td>\n",
       "      <td>False</td>\n",
       "    </tr>\n",
       "    <tr>\n",
       "      <th>1</th>\n",
       "      <td>False</td>\n",
       "      <td>False</td>\n",
       "      <td>False</td>\n",
       "      <td>False</td>\n",
       "      <td>False</td>\n",
       "      <td>False</td>\n",
       "      <td>False</td>\n",
       "      <td>False</td>\n",
       "      <td>False</td>\n",
       "    </tr>\n",
       "    <tr>\n",
       "      <th>2</th>\n",
       "      <td>False</td>\n",
       "      <td>False</td>\n",
       "      <td>False</td>\n",
       "      <td>False</td>\n",
       "      <td>False</td>\n",
       "      <td>False</td>\n",
       "      <td>False</td>\n",
       "      <td>False</td>\n",
       "      <td>False</td>\n",
       "    </tr>\n",
       "    <tr>\n",
       "      <th>3</th>\n",
       "      <td>False</td>\n",
       "      <td>False</td>\n",
       "      <td>False</td>\n",
       "      <td>False</td>\n",
       "      <td>False</td>\n",
       "      <td>False</td>\n",
       "      <td>False</td>\n",
       "      <td>False</td>\n",
       "      <td>False</td>\n",
       "    </tr>\n",
       "    <tr>\n",
       "      <th>4</th>\n",
       "      <td>False</td>\n",
       "      <td>False</td>\n",
       "      <td>False</td>\n",
       "      <td>False</td>\n",
       "      <td>False</td>\n",
       "      <td>False</td>\n",
       "      <td>False</td>\n",
       "      <td>False</td>\n",
       "      <td>False</td>\n",
       "    </tr>\n",
       "    <tr>\n",
       "      <th>...</th>\n",
       "      <td>...</td>\n",
       "      <td>...</td>\n",
       "      <td>...</td>\n",
       "      <td>...</td>\n",
       "      <td>...</td>\n",
       "      <td>...</td>\n",
       "      <td>...</td>\n",
       "      <td>...</td>\n",
       "      <td>...</td>\n",
       "    </tr>\n",
       "    <tr>\n",
       "      <th>1025</th>\n",
       "      <td>False</td>\n",
       "      <td>False</td>\n",
       "      <td>False</td>\n",
       "      <td>False</td>\n",
       "      <td>False</td>\n",
       "      <td>False</td>\n",
       "      <td>False</td>\n",
       "      <td>False</td>\n",
       "      <td>False</td>\n",
       "    </tr>\n",
       "    <tr>\n",
       "      <th>1026</th>\n",
       "      <td>False</td>\n",
       "      <td>False</td>\n",
       "      <td>False</td>\n",
       "      <td>False</td>\n",
       "      <td>False</td>\n",
       "      <td>False</td>\n",
       "      <td>False</td>\n",
       "      <td>False</td>\n",
       "      <td>False</td>\n",
       "    </tr>\n",
       "    <tr>\n",
       "      <th>1027</th>\n",
       "      <td>False</td>\n",
       "      <td>False</td>\n",
       "      <td>False</td>\n",
       "      <td>False</td>\n",
       "      <td>False</td>\n",
       "      <td>False</td>\n",
       "      <td>False</td>\n",
       "      <td>False</td>\n",
       "      <td>False</td>\n",
       "    </tr>\n",
       "    <tr>\n",
       "      <th>1028</th>\n",
       "      <td>False</td>\n",
       "      <td>False</td>\n",
       "      <td>False</td>\n",
       "      <td>False</td>\n",
       "      <td>False</td>\n",
       "      <td>False</td>\n",
       "      <td>False</td>\n",
       "      <td>False</td>\n",
       "      <td>False</td>\n",
       "    </tr>\n",
       "    <tr>\n",
       "      <th>1029</th>\n",
       "      <td>False</td>\n",
       "      <td>False</td>\n",
       "      <td>False</td>\n",
       "      <td>False</td>\n",
       "      <td>False</td>\n",
       "      <td>False</td>\n",
       "      <td>False</td>\n",
       "      <td>False</td>\n",
       "      <td>False</td>\n",
       "    </tr>\n",
       "  </tbody>\n",
       "</table>\n",
       "<p>1030 rows × 9 columns</p>\n",
       "</div>"
      ],
      "text/plain": [
       "      Cement  Blast Furnace Slag  Fly Ash  ...  Fine Aggregate    Age  Strength\n",
       "0      False               False    False  ...           False  False     False\n",
       "1      False               False    False  ...           False  False     False\n",
       "2      False               False    False  ...           False  False     False\n",
       "3      False               False    False  ...           False  False     False\n",
       "4      False               False    False  ...           False  False     False\n",
       "...      ...                 ...      ...  ...             ...    ...       ...\n",
       "1025   False               False    False  ...           False  False     False\n",
       "1026   False               False    False  ...           False  False     False\n",
       "1027   False               False    False  ...           False  False     False\n",
       "1028   False               False    False  ...           False  False     False\n",
       "1029   False               False    False  ...           False  False     False\n",
       "\n",
       "[1030 rows x 9 columns]"
      ]
     },
     "execution_count": 10,
     "metadata": {},
     "output_type": "execute_result"
    }
   ],
   "source": [
    "concrete_data.isnull()#.sum()"
   ]
  },
  {
   "cell_type": "markdown",
   "metadata": {
    "button": false,
    "new_sheet": false,
    "run_control": {
     "read_only": false
    }
   },
   "source": [
    "The data looks very clean and is ready to be used to build our model.\n"
   ]
  },
  {
   "cell_type": "markdown",
   "metadata": {
    "button": false,
    "new_sheet": false,
    "run_control": {
     "read_only": false
    }
   },
   "source": [
    "#### Split data into predictors and target\n"
   ]
  },
  {
   "cell_type": "markdown",
   "metadata": {},
   "source": [
    "The target variable in this problem is the concrete sample strength. Therefore, our predictors will be all the other columns.\n"
   ]
  },
  {
   "cell_type": "code",
   "execution_count": 11,
   "metadata": {
    "button": false,
    "new_sheet": false,
    "run_control": {
     "read_only": false
    }
   },
   "outputs": [],
   "source": [
    "concrete_data_columns = concrete_data.columns\n",
    "\n",
    "predictors = concrete_data[concrete_data_columns[concrete_data_columns != 'Strength']] # all columns except Strength\n",
    "target = concrete_data['Strength'] # Strength column"
   ]
  },
  {
   "cell_type": "markdown",
   "metadata": {
    "button": false,
    "new_sheet": false,
    "run_control": {
     "read_only": false
    }
   },
   "source": [
    "<a id=\"item2\"></a>\n"
   ]
  },
  {
   "cell_type": "markdown",
   "metadata": {
    "button": false,
    "new_sheet": false,
    "run_control": {
     "read_only": false
    }
   },
   "source": [
    "Let's do a quick sanity check of the predictors and the target dataframes.\n"
   ]
  },
  {
   "cell_type": "code",
   "execution_count": 12,
   "metadata": {
    "button": false,
    "new_sheet": false,
    "run_control": {
     "read_only": false
    }
   },
   "outputs": [
    {
     "data": {
      "text/html": [
       "<div>\n",
       "<style scoped>\n",
       "    .dataframe tbody tr th:only-of-type {\n",
       "        vertical-align: middle;\n",
       "    }\n",
       "\n",
       "    .dataframe tbody tr th {\n",
       "        vertical-align: top;\n",
       "    }\n",
       "\n",
       "    .dataframe thead th {\n",
       "        text-align: right;\n",
       "    }\n",
       "</style>\n",
       "<table border=\"1\" class=\"dataframe\">\n",
       "  <thead>\n",
       "    <tr style=\"text-align: right;\">\n",
       "      <th></th>\n",
       "      <th>Cement</th>\n",
       "      <th>Blast Furnace Slag</th>\n",
       "      <th>Fly Ash</th>\n",
       "      <th>Water</th>\n",
       "      <th>Superplasticizer</th>\n",
       "      <th>Coarse Aggregate</th>\n",
       "      <th>Fine Aggregate</th>\n",
       "      <th>Age</th>\n",
       "    </tr>\n",
       "  </thead>\n",
       "  <tbody>\n",
       "    <tr>\n",
       "      <th>0</th>\n",
       "      <td>540.0</td>\n",
       "      <td>0.0</td>\n",
       "      <td>0.0</td>\n",
       "      <td>162.0</td>\n",
       "      <td>2.5</td>\n",
       "      <td>1040.0</td>\n",
       "      <td>676.0</td>\n",
       "      <td>28</td>\n",
       "    </tr>\n",
       "    <tr>\n",
       "      <th>1</th>\n",
       "      <td>540.0</td>\n",
       "      <td>0.0</td>\n",
       "      <td>0.0</td>\n",
       "      <td>162.0</td>\n",
       "      <td>2.5</td>\n",
       "      <td>1055.0</td>\n",
       "      <td>676.0</td>\n",
       "      <td>28</td>\n",
       "    </tr>\n",
       "    <tr>\n",
       "      <th>2</th>\n",
       "      <td>332.5</td>\n",
       "      <td>142.5</td>\n",
       "      <td>0.0</td>\n",
       "      <td>228.0</td>\n",
       "      <td>0.0</td>\n",
       "      <td>932.0</td>\n",
       "      <td>594.0</td>\n",
       "      <td>270</td>\n",
       "    </tr>\n",
       "    <tr>\n",
       "      <th>3</th>\n",
       "      <td>332.5</td>\n",
       "      <td>142.5</td>\n",
       "      <td>0.0</td>\n",
       "      <td>228.0</td>\n",
       "      <td>0.0</td>\n",
       "      <td>932.0</td>\n",
       "      <td>594.0</td>\n",
       "      <td>365</td>\n",
       "    </tr>\n",
       "    <tr>\n",
       "      <th>4</th>\n",
       "      <td>198.6</td>\n",
       "      <td>132.4</td>\n",
       "      <td>0.0</td>\n",
       "      <td>192.0</td>\n",
       "      <td>0.0</td>\n",
       "      <td>978.4</td>\n",
       "      <td>825.5</td>\n",
       "      <td>360</td>\n",
       "    </tr>\n",
       "  </tbody>\n",
       "</table>\n",
       "</div>"
      ],
      "text/plain": [
       "   Cement  Blast Furnace Slag  Fly Ash  ...  Coarse Aggregate  Fine Aggregate  Age\n",
       "0   540.0                 0.0      0.0  ...            1040.0           676.0   28\n",
       "1   540.0                 0.0      0.0  ...            1055.0           676.0   28\n",
       "2   332.5               142.5      0.0  ...             932.0           594.0  270\n",
       "3   332.5               142.5      0.0  ...             932.0           594.0  365\n",
       "4   198.6               132.4      0.0  ...             978.4           825.5  360\n",
       "\n",
       "[5 rows x 8 columns]"
      ]
     },
     "execution_count": 12,
     "metadata": {},
     "output_type": "execute_result"
    }
   ],
   "source": [
    "predictors.head()"
   ]
  },
  {
   "cell_type": "code",
   "execution_count": 13,
   "metadata": {
    "button": false,
    "new_sheet": false,
    "run_control": {
     "read_only": false
    }
   },
   "outputs": [
    {
     "data": {
      "text/plain": [
       "0    79.99\n",
       "1    61.89\n",
       "2    40.27\n",
       "3    41.05\n",
       "4    44.30\n",
       "Name: Strength, dtype: float64"
      ]
     },
     "execution_count": 13,
     "metadata": {},
     "output_type": "execute_result"
    }
   ],
   "source": [
    "target.head()"
   ]
  },
  {
   "cell_type": "markdown",
   "metadata": {
    "button": false,
    "new_sheet": false,
    "run_control": {
     "read_only": false
    }
   },
   "source": [
    "Finally, the last step is to normalize the data by substracting the mean and dividing by the standard deviation.\n"
   ]
  },
  {
   "cell_type": "code",
   "execution_count": 14,
   "metadata": {
    "button": false,
    "new_sheet": false,
    "run_control": {
     "read_only": false
    }
   },
   "outputs": [
    {
     "data": {
      "text/html": [
       "<div>\n",
       "<style scoped>\n",
       "    .dataframe tbody tr th:only-of-type {\n",
       "        vertical-align: middle;\n",
       "    }\n",
       "\n",
       "    .dataframe tbody tr th {\n",
       "        vertical-align: top;\n",
       "    }\n",
       "\n",
       "    .dataframe thead th {\n",
       "        text-align: right;\n",
       "    }\n",
       "</style>\n",
       "<table border=\"1\" class=\"dataframe\">\n",
       "  <thead>\n",
       "    <tr style=\"text-align: right;\">\n",
       "      <th></th>\n",
       "      <th>Cement</th>\n",
       "      <th>Blast Furnace Slag</th>\n",
       "      <th>Fly Ash</th>\n",
       "      <th>Water</th>\n",
       "      <th>Superplasticizer</th>\n",
       "      <th>Coarse Aggregate</th>\n",
       "      <th>Fine Aggregate</th>\n",
       "      <th>Age</th>\n",
       "    </tr>\n",
       "  </thead>\n",
       "  <tbody>\n",
       "    <tr>\n",
       "      <th>0</th>\n",
       "      <td>2.476712</td>\n",
       "      <td>-0.856472</td>\n",
       "      <td>-0.846733</td>\n",
       "      <td>-0.916319</td>\n",
       "      <td>-0.620147</td>\n",
       "      <td>0.862735</td>\n",
       "      <td>-1.217079</td>\n",
       "      <td>-0.279597</td>\n",
       "    </tr>\n",
       "    <tr>\n",
       "      <th>1</th>\n",
       "      <td>2.476712</td>\n",
       "      <td>-0.856472</td>\n",
       "      <td>-0.846733</td>\n",
       "      <td>-0.916319</td>\n",
       "      <td>-0.620147</td>\n",
       "      <td>1.055651</td>\n",
       "      <td>-1.217079</td>\n",
       "      <td>-0.279597</td>\n",
       "    </tr>\n",
       "    <tr>\n",
       "      <th>2</th>\n",
       "      <td>0.491187</td>\n",
       "      <td>0.795140</td>\n",
       "      <td>-0.846733</td>\n",
       "      <td>2.174405</td>\n",
       "      <td>-1.038638</td>\n",
       "      <td>-0.526262</td>\n",
       "      <td>-2.239829</td>\n",
       "      <td>3.551340</td>\n",
       "    </tr>\n",
       "    <tr>\n",
       "      <th>3</th>\n",
       "      <td>0.491187</td>\n",
       "      <td>0.795140</td>\n",
       "      <td>-0.846733</td>\n",
       "      <td>2.174405</td>\n",
       "      <td>-1.038638</td>\n",
       "      <td>-0.526262</td>\n",
       "      <td>-2.239829</td>\n",
       "      <td>5.055221</td>\n",
       "    </tr>\n",
       "    <tr>\n",
       "      <th>4</th>\n",
       "      <td>-0.790075</td>\n",
       "      <td>0.678079</td>\n",
       "      <td>-0.846733</td>\n",
       "      <td>0.488555</td>\n",
       "      <td>-1.038638</td>\n",
       "      <td>0.070492</td>\n",
       "      <td>0.647569</td>\n",
       "      <td>4.976069</td>\n",
       "    </tr>\n",
       "  </tbody>\n",
       "</table>\n",
       "</div>"
      ],
      "text/plain": [
       "     Cement  Blast Furnace Slag   Fly Ash  ...  Coarse Aggregate  Fine Aggregate       Age\n",
       "0  2.476712           -0.856472 -0.846733  ...          0.862735       -1.217079 -0.279597\n",
       "1  2.476712           -0.856472 -0.846733  ...          1.055651       -1.217079 -0.279597\n",
       "2  0.491187            0.795140 -0.846733  ...         -0.526262       -2.239829  3.551340\n",
       "3  0.491187            0.795140 -0.846733  ...         -0.526262       -2.239829  5.055221\n",
       "4 -0.790075            0.678079 -0.846733  ...          0.070492        0.647569  4.976069\n",
       "\n",
       "[5 rows x 8 columns]"
      ]
     },
     "execution_count": 14,
     "metadata": {},
     "output_type": "execute_result"
    }
   ],
   "source": [
    "predictors_norm = (predictors - predictors.mean()) / predictors.std()\n",
    "predictors_norm.head()"
   ]
  },
  {
   "cell_type": "code",
   "execution_count": 15,
   "metadata": {},
   "outputs": [
    {
     "data": {
      "text/plain": [
       "Cement                104.506364\n",
       "Blast Furnace Slag     86.279342\n",
       "Fly Ash                63.997004\n",
       "Water                  21.354219\n",
       "Superplasticizer        5.973841\n",
       "Coarse Aggregate       77.753954\n",
       "Fine Aggregate         80.175980\n",
       "Age                    63.169912\n",
       "dtype: float64"
      ]
     },
     "execution_count": 15,
     "metadata": {},
     "output_type": "execute_result"
    }
   ],
   "source": [
    "predictors.std()"
   ]
  },
  {
   "cell_type": "markdown",
   "metadata": {},
   "source": [
    "Let's save the number of predictors to *n_cols* since we will need this number when building our network.\n"
   ]
  },
  {
   "cell_type": "code",
   "execution_count": 16,
   "metadata": {
    "button": false,
    "new_sheet": false,
    "run_control": {
     "read_only": false
    }
   },
   "outputs": [],
   "source": [
    "n_cols = predictors_norm.shape[1] # number of predictors"
   ]
  },
  {
   "cell_type": "markdown",
   "metadata": {
    "button": false,
    "new_sheet": false,
    "run_control": {
     "read_only": false
    }
   },
   "source": [
    "<a id=\"item1\"></a>\n"
   ]
  },
  {
   "cell_type": "markdown",
   "metadata": {},
   "source": [
    "<a id='item32'></a>\n"
   ]
  },
  {
   "cell_type": "markdown",
   "metadata": {
    "button": false,
    "new_sheet": false,
    "run_control": {
     "read_only": false
    }
   },
   "source": [
    "## Import Keras\n"
   ]
  },
  {
   "cell_type": "markdown",
   "metadata": {
    "button": false,
    "new_sheet": false,
    "run_control": {
     "read_only": false
    }
   },
   "source": [
    "Recall from the videos that Keras normally runs on top of a low-level library such as TensorFlow. This means that to be able to use the Keras library, you will have to install TensorFlow first and when you import the Keras library, it will be explicitly displayed what backend was used to install the Keras library. In CC Labs, we used TensorFlow as the backend to install Keras, so it should clearly print that when we import Keras.\n"
   ]
  },
  {
   "cell_type": "markdown",
   "metadata": {
    "button": false,
    "new_sheet": false,
    "run_control": {
     "read_only": false
    }
   },
   "source": [
    "#### Let's go ahead and import the Keras library\n"
   ]
  },
  {
   "cell_type": "code",
   "execution_count": 17,
   "metadata": {
    "button": false,
    "new_sheet": false,
    "run_control": {
     "read_only": false
    }
   },
   "outputs": [],
   "source": [
    "import keras"
   ]
  },
  {
   "cell_type": "markdown",
   "metadata": {
    "button": false,
    "new_sheet": false,
    "run_control": {
     "read_only": false
    }
   },
   "source": [
    "As you can see, the TensorFlow backend was used to install the Keras library.\n"
   ]
  },
  {
   "cell_type": "markdown",
   "metadata": {
    "button": false,
    "new_sheet": false,
    "run_control": {
     "read_only": false
    }
   },
   "source": [
    "Let's import the rest of the packages from the Keras library that we will need to build our regressoin model.\n"
   ]
  },
  {
   "cell_type": "code",
   "execution_count": 18,
   "metadata": {
    "button": false,
    "new_sheet": false,
    "run_control": {
     "read_only": false
    }
   },
   "outputs": [],
   "source": [
    "from keras.models import Sequential\n",
    "from keras.layers import Dense\n",
    "from sklearn.model_selection import train_test_split"
   ]
  },
  {
   "cell_type": "markdown",
   "metadata": {},
   "source": [
    "<a id='item33'></a>\n"
   ]
  },
  {
   "cell_type": "markdown",
   "metadata": {
    "button": false,
    "new_sheet": false,
    "run_control": {
     "read_only": false
    }
   },
   "source": [
    "## Build a Neural Network\n"
   ]
  },
  {
   "cell_type": "markdown",
   "metadata": {
    "button": false,
    "new_sheet": false,
    "run_control": {
     "read_only": false
    }
   },
   "source": [
    "Let's define a function that defines our regression model for us so that we can conveniently call it to create our model.\n"
   ]
  },
  {
   "cell_type": "code",
   "execution_count": 87,
   "metadata": {
    "button": false,
    "new_sheet": false,
    "run_control": {
     "read_only": false
    }
   },
   "outputs": [],
   "source": [
    "# define regression model\n",
    "def regression_model():\n",
    "    # create model\n",
    "    model = Sequential()\n",
    "    model.add(Dense(90, activation='relu', input_shape=(n_cols,)))\n",
    "    model.add(Dense(90, activation='relu'))\n",
    "    model.add(Dense(30, activation='relu'))\n",
    "    model.add(Dense(30, activation='relu'))\n",
    "    model.add(Dense(30, activation='relu'))    \n",
    "    model.add(Dense(10, activation='relu'))\n",
    "    model.add(Dense(1))\n",
    "    \n",
    "    # compile model\n",
    "    model.compile(optimizer='adam', loss='mean_squared_error', metrics=['acc'])\n",
    "    return model"
   ]
  },
  {
   "cell_type": "markdown",
   "metadata": {},
   "source": [
    "The above function create a model that has two hidden layers, each of 50 hidden units.\n"
   ]
  },
  {
   "cell_type": "markdown",
   "metadata": {
    "button": false,
    "new_sheet": false,
    "run_control": {
     "read_only": false
    }
   },
   "source": [
    "## Train and Test the Network\n"
   ]
  },
  {
   "cell_type": "markdown",
   "metadata": {},
   "source": [
    "Let's call the function now to create our model.\n"
   ]
  },
  {
   "cell_type": "code",
   "execution_count": 88,
   "metadata": {
    "button": false,
    "new_sheet": false,
    "run_control": {
     "read_only": false
    }
   },
   "outputs": [],
   "source": [
    "# build the model\n",
    "model = regression_model()"
   ]
  },
  {
   "cell_type": "markdown",
   "metadata": {},
   "source": [
    "Next, we will train and test the model at the same time using the *fit* method. We will leave out 30% of the data for validation and we will train the model for 100 epochs.\n"
   ]
  },
  {
   "cell_type": "code",
   "execution_count": 89,
   "metadata": {},
   "outputs": [],
   "source": [
    "X_Train, X_Test, y_Train,  y_Test = train_test_split(predictors_norm, target, test_size=0.25)"
   ]
  },
  {
   "cell_type": "code",
   "execution_count": 90,
   "metadata": {},
   "outputs": [
    {
     "name": "stdout",
     "output_type": "stream",
     "text": [
      "Epoch 1/150\n",
      "25/25 - 0s - loss: 1521.3546 - acc: 0.0000e+00 - val_loss: 1576.0488 - val_acc: 0.0000e+00 - 491ms/epoch - 20ms/step\n",
      "Epoch 2/150\n",
      "25/25 - 0s - loss: 1249.0551 - acc: 0.0000e+00 - val_loss: 804.9814 - val_acc: 0.0000e+00 - 51ms/epoch - 2ms/step\n",
      "Epoch 3/150\n",
      "25/25 - 0s - loss: 341.7382 - acc: 0.0000e+00 - val_loss: 268.2377 - val_acc: 0.0000e+00 - 47ms/epoch - 2ms/step\n",
      "Epoch 4/150\n",
      "25/25 - 0s - loss: 217.1549 - acc: 0.0000e+00 - val_loss: 223.9912 - val_acc: 0.0000e+00 - 54ms/epoch - 2ms/step\n",
      "Epoch 5/150\n",
      "25/25 - 0s - loss: 198.7041 - acc: 0.0000e+00 - val_loss: 202.7930 - val_acc: 0.0000e+00 - 52ms/epoch - 2ms/step\n",
      "Epoch 6/150\n",
      "25/25 - 0s - loss: 180.4888 - acc: 0.0000e+00 - val_loss: 190.6473 - val_acc: 0.0000e+00 - 47ms/epoch - 2ms/step\n",
      "Epoch 7/150\n",
      "25/25 - 0s - loss: 169.9881 - acc: 0.0000e+00 - val_loss: 181.4567 - val_acc: 0.0000e+00 - 47ms/epoch - 2ms/step\n",
      "Epoch 8/150\n",
      "25/25 - 0s - loss: 165.3682 - acc: 0.0000e+00 - val_loss: 178.0509 - val_acc: 0.0000e+00 - 47ms/epoch - 2ms/step\n",
      "Epoch 9/150\n",
      "25/25 - 0s - loss: 155.2280 - acc: 0.0000e+00 - val_loss: 167.6628 - val_acc: 0.0000e+00 - 47ms/epoch - 2ms/step\n",
      "Epoch 10/150\n",
      "25/25 - 0s - loss: 149.3566 - acc: 0.0000e+00 - val_loss: 161.7093 - val_acc: 0.0000e+00 - 48ms/epoch - 2ms/step\n",
      "Epoch 11/150\n",
      "25/25 - 0s - loss: 146.6510 - acc: 0.0000e+00 - val_loss: 163.6783 - val_acc: 0.0000e+00 - 51ms/epoch - 2ms/step\n",
      "Epoch 12/150\n",
      "25/25 - 0s - loss: 141.8291 - acc: 0.0000e+00 - val_loss: 145.9072 - val_acc: 0.0000e+00 - 55ms/epoch - 2ms/step\n",
      "Epoch 13/150\n",
      "25/25 - 0s - loss: 134.2514 - acc: 0.0000e+00 - val_loss: 143.4705 - val_acc: 0.0000e+00 - 48ms/epoch - 2ms/step\n",
      "Epoch 14/150\n",
      "25/25 - 0s - loss: 128.7767 - acc: 0.0000e+00 - val_loss: 133.1907 - val_acc: 0.0000e+00 - 48ms/epoch - 2ms/step\n",
      "Epoch 15/150\n",
      "25/25 - 0s - loss: 119.9003 - acc: 0.0000e+00 - val_loss: 124.5937 - val_acc: 0.0000e+00 - 50ms/epoch - 2ms/step\n",
      "Epoch 16/150\n",
      "25/25 - 0s - loss: 111.5957 - acc: 0.0000e+00 - val_loss: 121.8867 - val_acc: 0.0000e+00 - 48ms/epoch - 2ms/step\n",
      "Epoch 17/150\n",
      "25/25 - 0s - loss: 107.4395 - acc: 0.0000e+00 - val_loss: 107.1538 - val_acc: 0.0000e+00 - 49ms/epoch - 2ms/step\n",
      "Epoch 18/150\n",
      "25/25 - 0s - loss: 97.0748 - acc: 0.0000e+00 - val_loss: 97.6264 - val_acc: 0.0000e+00 - 48ms/epoch - 2ms/step\n",
      "Epoch 19/150\n",
      "25/25 - 0s - loss: 90.3241 - acc: 0.0000e+00 - val_loss: 88.5321 - val_acc: 0.0000e+00 - 50ms/epoch - 2ms/step\n",
      "Epoch 20/150\n",
      "25/25 - 0s - loss: 78.1160 - acc: 0.0000e+00 - val_loss: 79.4633 - val_acc: 0.0000e+00 - 55ms/epoch - 2ms/step\n",
      "Epoch 21/150\n",
      "25/25 - 0s - loss: 70.0135 - acc: 0.0000e+00 - val_loss: 71.8492 - val_acc: 0.0000e+00 - 59ms/epoch - 2ms/step\n",
      "Epoch 22/150\n",
      "25/25 - 0s - loss: 65.0759 - acc: 0.0000e+00 - val_loss: 71.6604 - val_acc: 0.0000e+00 - 59ms/epoch - 2ms/step\n",
      "Epoch 23/150\n",
      "25/25 - 0s - loss: 64.6133 - acc: 0.0000e+00 - val_loss: 61.0953 - val_acc: 0.0000e+00 - 51ms/epoch - 2ms/step\n",
      "Epoch 24/150\n",
      "25/25 - 0s - loss: 55.6186 - acc: 0.0000e+00 - val_loss: 61.7375 - val_acc: 0.0000e+00 - 52ms/epoch - 2ms/step\n",
      "Epoch 25/150\n",
      "25/25 - 0s - loss: 53.1717 - acc: 0.0000e+00 - val_loss: 54.9614 - val_acc: 0.0000e+00 - 51ms/epoch - 2ms/step\n",
      "Epoch 26/150\n",
      "25/25 - 0s - loss: 50.8535 - acc: 0.0000e+00 - val_loss: 53.7081 - val_acc: 0.0000e+00 - 49ms/epoch - 2ms/step\n",
      "Epoch 27/150\n",
      "25/25 - 0s - loss: 49.2961 - acc: 0.0000e+00 - val_loss: 53.2960 - val_acc: 0.0000e+00 - 51ms/epoch - 2ms/step\n",
      "Epoch 28/150\n",
      "25/25 - 0s - loss: 45.7675 - acc: 0.0000e+00 - val_loss: 48.1353 - val_acc: 0.0000e+00 - 49ms/epoch - 2ms/step\n",
      "Epoch 29/150\n",
      "25/25 - 0s - loss: 44.2417 - acc: 0.0000e+00 - val_loss: 51.1499 - val_acc: 0.0000e+00 - 51ms/epoch - 2ms/step\n",
      "Epoch 30/150\n",
      "25/25 - 0s - loss: 44.5236 - acc: 0.0000e+00 - val_loss: 47.8125 - val_acc: 0.0000e+00 - 48ms/epoch - 2ms/step\n",
      "Epoch 31/150\n",
      "25/25 - 0s - loss: 42.9782 - acc: 0.0000e+00 - val_loss: 45.3195 - val_acc: 0.0000e+00 - 48ms/epoch - 2ms/step\n",
      "Epoch 32/150\n",
      "25/25 - 0s - loss: 40.8195 - acc: 0.0000e+00 - val_loss: 48.9823 - val_acc: 0.0000e+00 - 49ms/epoch - 2ms/step\n",
      "Epoch 33/150\n",
      "25/25 - 0s - loss: 38.4977 - acc: 0.0000e+00 - val_loss: 43.8698 - val_acc: 0.0000e+00 - 48ms/epoch - 2ms/step\n",
      "Epoch 34/150\n",
      "25/25 - 0s - loss: 36.4373 - acc: 0.0000e+00 - val_loss: 42.0356 - val_acc: 0.0000e+00 - 47ms/epoch - 2ms/step\n",
      "Epoch 35/150\n",
      "25/25 - 0s - loss: 35.5154 - acc: 0.0000e+00 - val_loss: 43.9167 - val_acc: 0.0000e+00 - 48ms/epoch - 2ms/step\n",
      "Epoch 36/150\n",
      "25/25 - 0s - loss: 34.6341 - acc: 0.0000e+00 - val_loss: 41.1682 - val_acc: 0.0000e+00 - 53ms/epoch - 2ms/step\n",
      "Epoch 37/150\n",
      "25/25 - 0s - loss: 35.9393 - acc: 0.0000e+00 - val_loss: 38.9220 - val_acc: 0.0000e+00 - 54ms/epoch - 2ms/step\n",
      "Epoch 38/150\n",
      "25/25 - 0s - loss: 31.7232 - acc: 0.0000e+00 - val_loss: 40.8929 - val_acc: 0.0000e+00 - 47ms/epoch - 2ms/step\n",
      "Epoch 39/150\n",
      "25/25 - 0s - loss: 30.6770 - acc: 0.0000e+00 - val_loss: 41.0387 - val_acc: 0.0000e+00 - 47ms/epoch - 2ms/step\n",
      "Epoch 40/150\n",
      "25/25 - 0s - loss: 32.4531 - acc: 0.0000e+00 - val_loss: 36.5508 - val_acc: 0.0000e+00 - 49ms/epoch - 2ms/step\n",
      "Epoch 41/150\n",
      "25/25 - 0s - loss: 30.6413 - acc: 0.0000e+00 - val_loss: 36.9714 - val_acc: 0.0000e+00 - 52ms/epoch - 2ms/step\n",
      "Epoch 42/150\n",
      "25/25 - 0s - loss: 29.7623 - acc: 0.0000e+00 - val_loss: 37.7600 - val_acc: 0.0000e+00 - 50ms/epoch - 2ms/step\n",
      "Epoch 43/150\n",
      "25/25 - 0s - loss: 29.6187 - acc: 0.0000e+00 - val_loss: 40.0302 - val_acc: 0.0000e+00 - 48ms/epoch - 2ms/step\n",
      "Epoch 44/150\n",
      "25/25 - 0s - loss: 30.3931 - acc: 0.0000e+00 - val_loss: 37.7198 - val_acc: 0.0000e+00 - 49ms/epoch - 2ms/step\n",
      "Epoch 45/150\n",
      "25/25 - 0s - loss: 27.6052 - acc: 0.0000e+00 - val_loss: 39.4525 - val_acc: 0.0000e+00 - 48ms/epoch - 2ms/step\n",
      "Epoch 46/150\n",
      "25/25 - 0s - loss: 28.9609 - acc: 0.0000e+00 - val_loss: 36.6853 - val_acc: 0.0000e+00 - 47ms/epoch - 2ms/step\n",
      "Epoch 47/150\n",
      "25/25 - 0s - loss: 26.5266 - acc: 0.0000e+00 - val_loss: 37.0156 - val_acc: 0.0000e+00 - 53ms/epoch - 2ms/step\n",
      "Epoch 48/150\n",
      "25/25 - 0s - loss: 26.6274 - acc: 0.0000e+00 - val_loss: 34.5667 - val_acc: 0.0000e+00 - 54ms/epoch - 2ms/step\n",
      "Epoch 49/150\n",
      "25/25 - 0s - loss: 25.2808 - acc: 0.0000e+00 - val_loss: 35.4768 - val_acc: 0.0000e+00 - 49ms/epoch - 2ms/step\n",
      "Epoch 50/150\n",
      "25/25 - 0s - loss: 25.0575 - acc: 0.0000e+00 - val_loss: 33.6292 - val_acc: 0.0000e+00 - 54ms/epoch - 2ms/step\n",
      "Epoch 51/150\n",
      "25/25 - 0s - loss: 24.1707 - acc: 0.0000e+00 - val_loss: 33.3560 - val_acc: 0.0000e+00 - 50ms/epoch - 2ms/step\n",
      "Epoch 52/150\n",
      "25/25 - 0s - loss: 24.2138 - acc: 0.0000e+00 - val_loss: 34.4770 - val_acc: 0.0000e+00 - 49ms/epoch - 2ms/step\n",
      "Epoch 53/150\n",
      "25/25 - 0s - loss: 23.8925 - acc: 0.0000e+00 - val_loss: 33.4831 - val_acc: 0.0000e+00 - 50ms/epoch - 2ms/step\n",
      "Epoch 54/150\n",
      "25/25 - 0s - loss: 21.8765 - acc: 0.0000e+00 - val_loss: 37.1126 - val_acc: 0.0000e+00 - 51ms/epoch - 2ms/step\n",
      "Epoch 55/150\n",
      "25/25 - 0s - loss: 22.8831 - acc: 0.0000e+00 - val_loss: 40.6350 - val_acc: 0.0000e+00 - 52ms/epoch - 2ms/step\n",
      "Epoch 56/150\n",
      "25/25 - 0s - loss: 22.9845 - acc: 0.0000e+00 - val_loss: 33.1369 - val_acc: 0.0000e+00 - 47ms/epoch - 2ms/step\n",
      "Epoch 57/150\n",
      "25/25 - 0s - loss: 21.0855 - acc: 0.0000e+00 - val_loss: 33.4349 - val_acc: 0.0000e+00 - 50ms/epoch - 2ms/step\n",
      "Epoch 58/150\n",
      "25/25 - 0s - loss: 21.0461 - acc: 0.0000e+00 - val_loss: 33.0614 - val_acc: 0.0000e+00 - 48ms/epoch - 2ms/step\n",
      "Epoch 59/150\n",
      "25/25 - 0s - loss: 20.3193 - acc: 0.0000e+00 - val_loss: 37.1898 - val_acc: 0.0000e+00 - 48ms/epoch - 2ms/step\n",
      "Epoch 60/150\n",
      "25/25 - 0s - loss: 23.2005 - acc: 0.0000e+00 - val_loss: 34.9142 - val_acc: 0.0000e+00 - 52ms/epoch - 2ms/step\n",
      "Epoch 61/150\n",
      "25/25 - 0s - loss: 22.2402 - acc: 0.0000e+00 - val_loss: 38.4791 - val_acc: 0.0000e+00 - 47ms/epoch - 2ms/step\n",
      "Epoch 62/150\n",
      "25/25 - 0s - loss: 20.0261 - acc: 0.0000e+00 - val_loss: 35.2726 - val_acc: 0.0000e+00 - 52ms/epoch - 2ms/step\n",
      "Epoch 63/150\n",
      "25/25 - 0s - loss: 22.4372 - acc: 0.0000e+00 - val_loss: 37.9694 - val_acc: 0.0000e+00 - 51ms/epoch - 2ms/step\n",
      "Epoch 64/150\n",
      "25/25 - 0s - loss: 23.0671 - acc: 0.0000e+00 - val_loss: 36.3212 - val_acc: 0.0000e+00 - 49ms/epoch - 2ms/step\n",
      "Epoch 65/150\n",
      "25/25 - 0s - loss: 21.5057 - acc: 0.0000e+00 - val_loss: 32.8945 - val_acc: 0.0000e+00 - 47ms/epoch - 2ms/step\n",
      "Epoch 66/150\n",
      "25/25 - 0s - loss: 17.9891 - acc: 0.0000e+00 - val_loss: 33.1447 - val_acc: 0.0000e+00 - 48ms/epoch - 2ms/step\n"
     ]
    },
    {
     "name": "stdout",
     "output_type": "stream",
     "text": [
      "Epoch 67/150\n",
      "25/25 - 0s - loss: 18.3219 - acc: 0.0000e+00 - val_loss: 33.1874 - val_acc: 0.0000e+00 - 47ms/epoch - 2ms/step\n",
      "Epoch 68/150\n",
      "25/25 - 0s - loss: 18.4788 - acc: 0.0000e+00 - val_loss: 32.2427 - val_acc: 0.0000e+00 - 48ms/epoch - 2ms/step\n",
      "Epoch 69/150\n",
      "25/25 - 0s - loss: 19.4104 - acc: 0.0000e+00 - val_loss: 30.0408 - val_acc: 0.0000e+00 - 46ms/epoch - 2ms/step\n",
      "Epoch 70/150\n",
      "25/25 - 0s - loss: 18.0836 - acc: 0.0000e+00 - val_loss: 34.2113 - val_acc: 0.0000e+00 - 50ms/epoch - 2ms/step\n",
      "Epoch 71/150\n",
      "25/25 - 0s - loss: 18.0768 - acc: 0.0000e+00 - val_loss: 31.2111 - val_acc: 0.0000e+00 - 46ms/epoch - 2ms/step\n",
      "Epoch 72/150\n",
      "25/25 - 0s - loss: 18.4469 - acc: 0.0000e+00 - val_loss: 31.0329 - val_acc: 0.0000e+00 - 51ms/epoch - 2ms/step\n",
      "Epoch 73/150\n",
      "25/25 - 0s - loss: 17.0343 - acc: 0.0000e+00 - val_loss: 33.2413 - val_acc: 0.0000e+00 - 48ms/epoch - 2ms/step\n",
      "Epoch 74/150\n",
      "25/25 - 0s - loss: 17.4692 - acc: 0.0000e+00 - val_loss: 29.5259 - val_acc: 0.0000e+00 - 50ms/epoch - 2ms/step\n",
      "Epoch 75/150\n",
      "25/25 - 0s - loss: 16.7290 - acc: 0.0000e+00 - val_loss: 30.4551 - val_acc: 0.0000e+00 - 47ms/epoch - 2ms/step\n",
      "Epoch 76/150\n",
      "25/25 - 0s - loss: 16.1119 - acc: 0.0000e+00 - val_loss: 33.1167 - val_acc: 0.0000e+00 - 46ms/epoch - 2ms/step\n",
      "Epoch 77/150\n",
      "25/25 - 0s - loss: 16.9392 - acc: 0.0000e+00 - val_loss: 31.0659 - val_acc: 0.0000e+00 - 49ms/epoch - 2ms/step\n",
      "Epoch 78/150\n",
      "25/25 - 0s - loss: 16.1660 - acc: 0.0000e+00 - val_loss: 31.4816 - val_acc: 0.0000e+00 - 47ms/epoch - 2ms/step\n",
      "Epoch 79/150\n",
      "25/25 - 0s - loss: 15.8958 - acc: 0.0000e+00 - val_loss: 32.7245 - val_acc: 0.0000e+00 - 48ms/epoch - 2ms/step\n",
      "Epoch 80/150\n",
      "25/25 - 0s - loss: 17.2893 - acc: 0.0000e+00 - val_loss: 34.1799 - val_acc: 0.0000e+00 - 47ms/epoch - 2ms/step\n",
      "Epoch 81/150\n",
      "25/25 - 0s - loss: 17.5568 - acc: 0.0000e+00 - val_loss: 31.9726 - val_acc: 0.0000e+00 - 49ms/epoch - 2ms/step\n",
      "Epoch 82/150\n",
      "25/25 - 0s - loss: 15.8985 - acc: 0.0000e+00 - val_loss: 30.7427 - val_acc: 0.0000e+00 - 47ms/epoch - 2ms/step\n",
      "Epoch 83/150\n",
      "25/25 - 0s - loss: 15.2219 - acc: 0.0000e+00 - val_loss: 29.4632 - val_acc: 0.0000e+00 - 48ms/epoch - 2ms/step\n",
      "Epoch 84/150\n",
      "25/25 - 0s - loss: 13.9833 - acc: 0.0000e+00 - val_loss: 30.4013 - val_acc: 0.0000e+00 - 47ms/epoch - 2ms/step\n",
      "Epoch 85/150\n",
      "25/25 - 0s - loss: 15.4575 - acc: 0.0000e+00 - val_loss: 30.3325 - val_acc: 0.0000e+00 - 48ms/epoch - 2ms/step\n",
      "Epoch 86/150\n",
      "25/25 - 0s - loss: 14.2637 - acc: 0.0000e+00 - val_loss: 30.4680 - val_acc: 0.0000e+00 - 48ms/epoch - 2ms/step\n",
      "Epoch 87/150\n",
      "25/25 - 0s - loss: 16.0265 - acc: 0.0000e+00 - val_loss: 33.4570 - val_acc: 0.0000e+00 - 48ms/epoch - 2ms/step\n",
      "Epoch 88/150\n",
      "25/25 - 0s - loss: 14.9606 - acc: 0.0000e+00 - val_loss: 33.6005 - val_acc: 0.0000e+00 - 47ms/epoch - 2ms/step\n",
      "Epoch 89/150\n",
      "25/25 - 0s - loss: 16.7390 - acc: 0.0000e+00 - val_loss: 30.1731 - val_acc: 0.0000e+00 - 50ms/epoch - 2ms/step\n",
      "Epoch 90/150\n",
      "25/25 - 0s - loss: 14.0899 - acc: 0.0000e+00 - val_loss: 29.4631 - val_acc: 0.0000e+00 - 47ms/epoch - 2ms/step\n",
      "Epoch 91/150\n",
      "25/25 - 0s - loss: 14.5097 - acc: 0.0000e+00 - val_loss: 30.3500 - val_acc: 0.0000e+00 - 46ms/epoch - 2ms/step\n",
      "Epoch 92/150\n",
      "25/25 - 0s - loss: 15.0171 - acc: 0.0000e+00 - val_loss: 30.4122 - val_acc: 0.0000e+00 - 51ms/epoch - 2ms/step\n",
      "Epoch 93/150\n",
      "25/25 - 0s - loss: 13.5765 - acc: 0.0000e+00 - val_loss: 27.9901 - val_acc: 0.0000e+00 - 47ms/epoch - 2ms/step\n",
      "Epoch 94/150\n",
      "25/25 - 0s - loss: 14.3650 - acc: 0.0000e+00 - val_loss: 29.2055 - val_acc: 0.0000e+00 - 46ms/epoch - 2ms/step\n",
      "Epoch 95/150\n",
      "25/25 - 0s - loss: 13.4626 - acc: 0.0000e+00 - val_loss: 29.4316 - val_acc: 0.0000e+00 - 47ms/epoch - 2ms/step\n",
      "Epoch 96/150\n",
      "25/25 - 0s - loss: 13.6721 - acc: 0.0000e+00 - val_loss: 30.1685 - val_acc: 0.0000e+00 - 50ms/epoch - 2ms/step\n",
      "Epoch 97/150\n",
      "25/25 - 0s - loss: 12.9538 - acc: 0.0000e+00 - val_loss: 28.9303 - val_acc: 0.0000e+00 - 49ms/epoch - 2ms/step\n",
      "Epoch 98/150\n",
      "25/25 - 0s - loss: 13.5246 - acc: 0.0000e+00 - val_loss: 32.8337 - val_acc: 0.0000e+00 - 48ms/epoch - 2ms/step\n",
      "Epoch 99/150\n",
      "25/25 - 0s - loss: 13.0603 - acc: 0.0000e+00 - val_loss: 29.3032 - val_acc: 0.0000e+00 - 46ms/epoch - 2ms/step\n",
      "Epoch 100/150\n",
      "25/25 - 0s - loss: 13.5054 - acc: 0.0000e+00 - val_loss: 29.6587 - val_acc: 0.0000e+00 - 47ms/epoch - 2ms/step\n",
      "Epoch 101/150\n",
      "25/25 - 0s - loss: 12.1229 - acc: 0.0000e+00 - val_loss: 28.1232 - val_acc: 0.0000e+00 - 47ms/epoch - 2ms/step\n",
      "Epoch 102/150\n",
      "25/25 - 0s - loss: 12.5520 - acc: 0.0000e+00 - val_loss: 31.1618 - val_acc: 0.0000e+00 - 47ms/epoch - 2ms/step\n",
      "Epoch 103/150\n",
      "25/25 - 0s - loss: 12.4313 - acc: 0.0000e+00 - val_loss: 28.6883 - val_acc: 0.0000e+00 - 47ms/epoch - 2ms/step\n",
      "Epoch 104/150\n",
      "25/25 - 0s - loss: 12.1740 - acc: 0.0000e+00 - val_loss: 29.3264 - val_acc: 0.0000e+00 - 47ms/epoch - 2ms/step\n",
      "Epoch 105/150\n",
      "25/25 - 0s - loss: 11.8991 - acc: 0.0000e+00 - val_loss: 28.7725 - val_acc: 0.0000e+00 - 47ms/epoch - 2ms/step\n",
      "Epoch 106/150\n",
      "25/25 - 0s - loss: 12.4914 - acc: 0.0000e+00 - val_loss: 36.2176 - val_acc: 0.0000e+00 - 46ms/epoch - 2ms/step\n",
      "Epoch 107/150\n",
      "25/25 - 0s - loss: 13.9418 - acc: 0.0000e+00 - val_loss: 31.0133 - val_acc: 0.0000e+00 - 47ms/epoch - 2ms/step\n",
      "Epoch 108/150\n",
      "25/25 - 0s - loss: 11.7056 - acc: 0.0000e+00 - val_loss: 30.9398 - val_acc: 0.0000e+00 - 46ms/epoch - 2ms/step\n",
      "Epoch 109/150\n",
      "25/25 - 0s - loss: 12.2946 - acc: 0.0000e+00 - val_loss: 29.9035 - val_acc: 0.0000e+00 - 50ms/epoch - 2ms/step\n",
      "Epoch 110/150\n",
      "25/25 - 0s - loss: 13.6643 - acc: 0.0000e+00 - val_loss: 30.7315 - val_acc: 0.0000e+00 - 47ms/epoch - 2ms/step\n",
      "Epoch 111/150\n",
      "25/25 - 0s - loss: 12.2057 - acc: 0.0000e+00 - val_loss: 28.9998 - val_acc: 0.0000e+00 - 51ms/epoch - 2ms/step\n",
      "Epoch 112/150\n",
      "25/25 - 0s - loss: 12.7620 - acc: 0.0000e+00 - val_loss: 33.0531 - val_acc: 0.0000e+00 - 47ms/epoch - 2ms/step\n",
      "Epoch 113/150\n",
      "25/25 - 0s - loss: 11.3577 - acc: 0.0000e+00 - val_loss: 28.1813 - val_acc: 0.0000e+00 - 46ms/epoch - 2ms/step\n",
      "Epoch 114/150\n",
      "25/25 - 0s - loss: 11.6934 - acc: 0.0000e+00 - val_loss: 27.5251 - val_acc: 0.0000e+00 - 51ms/epoch - 2ms/step\n",
      "Epoch 115/150\n",
      "25/25 - 0s - loss: 11.1778 - acc: 0.0000e+00 - val_loss: 30.2573 - val_acc: 0.0000e+00 - 47ms/epoch - 2ms/step\n",
      "Epoch 116/150\n",
      "25/25 - 0s - loss: 11.3199 - acc: 0.0000e+00 - val_loss: 29.2659 - val_acc: 0.0000e+00 - 50ms/epoch - 2ms/step\n",
      "Epoch 117/150\n",
      "25/25 - 0s - loss: 12.0927 - acc: 0.0000e+00 - val_loss: 35.5805 - val_acc: 0.0000e+00 - 52ms/epoch - 2ms/step\n",
      "Epoch 118/150\n",
      "25/25 - 0s - loss: 12.9143 - acc: 0.0000e+00 - val_loss: 28.5651 - val_acc: 0.0000e+00 - 46ms/epoch - 2ms/step\n",
      "Epoch 119/150\n",
      "25/25 - 0s - loss: 12.2184 - acc: 0.0000e+00 - val_loss: 28.1886 - val_acc: 0.0000e+00 - 47ms/epoch - 2ms/step\n",
      "Epoch 120/150\n",
      "25/25 - 0s - loss: 11.1488 - acc: 0.0000e+00 - val_loss: 28.8053 - val_acc: 0.0000e+00 - 51ms/epoch - 2ms/step\n",
      "Epoch 121/150\n",
      "25/25 - 0s - loss: 13.1456 - acc: 0.0000e+00 - val_loss: 28.9902 - val_acc: 0.0000e+00 - 58ms/epoch - 2ms/step\n",
      "Epoch 122/150\n",
      "25/25 - 0s - loss: 11.7164 - acc: 0.0000e+00 - val_loss: 30.3669 - val_acc: 0.0000e+00 - 57ms/epoch - 2ms/step\n",
      "Epoch 123/150\n",
      "25/25 - 0s - loss: 12.6771 - acc: 0.0000e+00 - val_loss: 30.6999 - val_acc: 0.0000e+00 - 57ms/epoch - 2ms/step\n",
      "Epoch 124/150\n",
      "25/25 - 0s - loss: 12.0166 - acc: 0.0000e+00 - val_loss: 28.6472 - val_acc: 0.0000e+00 - 58ms/epoch - 2ms/step\n",
      "Epoch 125/150\n",
      "25/25 - 0s - loss: 12.5994 - acc: 0.0000e+00 - val_loss: 31.2099 - val_acc: 0.0000e+00 - 50ms/epoch - 2ms/step\n",
      "Epoch 126/150\n",
      "25/25 - 0s - loss: 12.5535 - acc: 0.0000e+00 - val_loss: 30.3335 - val_acc: 0.0000e+00 - 82ms/epoch - 3ms/step\n",
      "Epoch 127/150\n",
      "25/25 - 0s - loss: 11.1172 - acc: 0.0000e+00 - val_loss: 29.3047 - val_acc: 0.0000e+00 - 53ms/epoch - 2ms/step\n",
      "Epoch 128/150\n",
      "25/25 - 0s - loss: 11.2623 - acc: 0.0000e+00 - val_loss: 29.2294 - val_acc: 0.0000e+00 - 51ms/epoch - 2ms/step\n",
      "Epoch 129/150\n",
      "25/25 - 0s - loss: 11.0322 - acc: 0.0000e+00 - val_loss: 28.9054 - val_acc: 0.0000e+00 - 54ms/epoch - 2ms/step\n",
      "Epoch 130/150\n",
      "25/25 - 0s - loss: 13.9577 - acc: 0.0000e+00 - val_loss: 27.1961 - val_acc: 0.0000e+00 - 56ms/epoch - 2ms/step\n",
      "Epoch 131/150\n",
      "25/25 - 0s - loss: 10.9277 - acc: 0.0000e+00 - val_loss: 27.8641 - val_acc: 0.0000e+00 - 51ms/epoch - 2ms/step\n",
      "Epoch 132/150\n",
      "25/25 - 0s - loss: 10.4662 - acc: 0.0000e+00 - val_loss: 28.1451 - val_acc: 0.0000e+00 - 55ms/epoch - 2ms/step\n"
     ]
    },
    {
     "name": "stdout",
     "output_type": "stream",
     "text": [
      "Epoch 133/150\n",
      "25/25 - 0s - loss: 10.8528 - acc: 0.0000e+00 - val_loss: 30.1641 - val_acc: 0.0000e+00 - 56ms/epoch - 2ms/step\n",
      "Epoch 134/150\n",
      "25/25 - 0s - loss: 10.7681 - acc: 0.0000e+00 - val_loss: 26.6645 - val_acc: 0.0000e+00 - 48ms/epoch - 2ms/step\n",
      "Epoch 135/150\n",
      "25/25 - 0s - loss: 9.7919 - acc: 0.0000e+00 - val_loss: 27.6784 - val_acc: 0.0000e+00 - 54ms/epoch - 2ms/step\n",
      "Epoch 136/150\n",
      "25/25 - 0s - loss: 10.0638 - acc: 0.0000e+00 - val_loss: 31.7766 - val_acc: 0.0000e+00 - 57ms/epoch - 2ms/step\n",
      "Epoch 137/150\n",
      "25/25 - 0s - loss: 10.5229 - acc: 0.0000e+00 - val_loss: 28.9204 - val_acc: 0.0000e+00 - 52ms/epoch - 2ms/step\n",
      "Epoch 138/150\n",
      "25/25 - 0s - loss: 11.0049 - acc: 0.0000e+00 - val_loss: 28.4428 - val_acc: 0.0000e+00 - 48ms/epoch - 2ms/step\n",
      "Epoch 139/150\n",
      "25/25 - 0s - loss: 10.4515 - acc: 0.0000e+00 - val_loss: 27.8294 - val_acc: 0.0000e+00 - 48ms/epoch - 2ms/step\n",
      "Epoch 140/150\n",
      "25/25 - 0s - loss: 9.6654 - acc: 0.0000e+00 - val_loss: 28.9628 - val_acc: 0.0000e+00 - 47ms/epoch - 2ms/step\n",
      "Epoch 141/150\n",
      "25/25 - 0s - loss: 10.6272 - acc: 0.0000e+00 - val_loss: 27.8584 - val_acc: 0.0000e+00 - 51ms/epoch - 2ms/step\n",
      "Epoch 142/150\n",
      "25/25 - 0s - loss: 13.4886 - acc: 0.0000e+00 - val_loss: 30.1589 - val_acc: 0.0000e+00 - 49ms/epoch - 2ms/step\n",
      "Epoch 143/150\n",
      "25/25 - 0s - loss: 10.0267 - acc: 0.0000e+00 - val_loss: 25.5717 - val_acc: 0.0000e+00 - 48ms/epoch - 2ms/step\n",
      "Epoch 144/150\n",
      "25/25 - 0s - loss: 10.5723 - acc: 0.0000e+00 - val_loss: 28.0525 - val_acc: 0.0000e+00 - 47ms/epoch - 2ms/step\n",
      "Epoch 145/150\n",
      "25/25 - 0s - loss: 10.9577 - acc: 0.0000e+00 - val_loss: 26.5154 - val_acc: 0.0000e+00 - 47ms/epoch - 2ms/step\n",
      "Epoch 146/150\n",
      "25/25 - 0s - loss: 10.2607 - acc: 0.0000e+00 - val_loss: 26.8009 - val_acc: 0.0000e+00 - 46ms/epoch - 2ms/step\n",
      "Epoch 147/150\n",
      "25/25 - 0s - loss: 13.8503 - acc: 0.0000e+00 - val_loss: 28.2551 - val_acc: 0.0000e+00 - 48ms/epoch - 2ms/step\n",
      "Epoch 148/150\n",
      "25/25 - 0s - loss: 10.5674 - acc: 0.0000e+00 - val_loss: 26.9589 - val_acc: 0.0000e+00 - 55ms/epoch - 2ms/step\n",
      "Epoch 149/150\n",
      "25/25 - 0s - loss: 10.3683 - acc: 0.0000e+00 - val_loss: 29.2949 - val_acc: 0.0000e+00 - 52ms/epoch - 2ms/step\n",
      "Epoch 150/150\n",
      "25/25 - 0s - loss: 10.3133 - acc: 0.0000e+00 - val_loss: 30.0704 - val_acc: 0.0000e+00 - 47ms/epoch - 2ms/step\n"
     ]
    },
    {
     "data": {
      "text/plain": [
       "<keras.callbacks.History at 0x148072a3bc70>"
      ]
     },
     "execution_count": 90,
     "metadata": {},
     "output_type": "execute_result"
    }
   ],
   "source": [
    "# fit the model\n",
    "model.fit(X_Train, y_Train, \n",
    "          validation_data=(X_Test, y_Test),\n",
    "          epochs=150,\n",
    "          verbose=2)"
   ]
  },
  {
   "cell_type": "code",
   "execution_count": 74,
   "metadata": {},
   "outputs": [],
   "source": [
    "score = model.evaluate(X_Test, y_Test, verbose=0)"
   ]
  },
  {
   "cell_type": "code",
   "execution_count": 55,
   "metadata": {},
   "outputs": [
    {
     "data": {
      "text/plain": [
       "[31.966482162475586, 0.0]"
      ]
     },
     "execution_count": 55,
     "metadata": {},
     "output_type": "execute_result"
    }
   ],
   "source": []
  },
  {
   "cell_type": "markdown",
   "metadata": {
    "button": false,
    "new_sheet": false,
    "run_control": {
     "read_only": false
    }
   },
   "source": [
    "<strong>You can refer to this [link](https://keras.io/models/sequential/?utm_medium=Exinfluencer&utm_source=Exinfluencer&utm_content=000026UJ&utm_term=10006555&utm_id=NA-SkillsNetwork-Channel-SkillsNetworkCoursesIBMDeveloperSkillsNetworkDL0101ENSkillsNetwork20718188-2021-01-01) to learn about other functions that you can use for prediction or evaluation.</strong>\n"
   ]
  },
  {
   "cell_type": "markdown",
   "metadata": {
    "button": false,
    "new_sheet": false,
    "run_control": {
     "read_only": false
    }
   },
   "source": [
    "Feel free to vary the following and note what impact each change has on the model's performance:\n",
    "\n",
    "1.  Increase or decreate number of neurons in hidden layers\n",
    "2.  Add more hidden layers\n",
    "3.  Increase number of epochs\n"
   ]
  },
  {
   "cell_type": "markdown",
   "metadata": {
    "button": false,
    "new_sheet": false,
    "run_control": {
     "read_only": false
    }
   },
   "source": [
    "### Thank you for completing this lab!\n",
    "\n",
    "This notebook was created by [Alex Aklson](https://www.linkedin.com/in/aklson/?utm_medium=Exinfluencer&utm_source=Exinfluencer&utm_content=000026UJ&utm_term=10006555&utm_id=NA-SkillsNetwork-Channel-SkillsNetworkCoursesIBMDeveloperSkillsNetworkDL0101ENSkillsNetwork20718188-2021-01-01). I hope you found this lab interesting and educational. Feel free to contact me if you have any questions!\n"
   ]
  },
  {
   "cell_type": "markdown",
   "metadata": {},
   "source": [
    "## Change Log\n",
    "\n",
    "| Date (YYYY-MM-DD) | Version | Changed By | Change Description                                          |\n",
    "| ----------------- | ------- | ---------- | ----------------------------------------------------------- |\n",
    "| 2020-09-21        | 2.0     | Srishti    | Migrated Lab to Markdown and added to course repo in GitLab |\n",
    "\n",
    "<hr>\n",
    "\n",
    "## <h3 align=\"center\"> © IBM Corporation 2020. All rights reserved. <h3/>\n"
   ]
  },
  {
   "cell_type": "markdown",
   "metadata": {
    "button": false,
    "new_sheet": false,
    "run_control": {
     "read_only": false
    }
   },
   "source": [
    "This notebook is part of a course on **Coursera** called *Introduction to Deep Learning & Neural Networks with Keras*. If you accessed this notebook outside the course, you can take this course online by clicking [here](https://cocl.us/DL0101EN_Coursera_Week3\\_LAB1).\n"
   ]
  },
  {
   "cell_type": "markdown",
   "metadata": {
    "button": false,
    "new_sheet": false,
    "run_control": {
     "read_only": false
    }
   },
   "source": [
    "<hr>\n",
    "\n",
    "Copyright © 2019 [IBM Developer Skills Network](https://cognitiveclass.ai/?utm_medium=dswb&utm_source=bducopyrightlink&utm_content=000026UJ&utm_term=10006555&utm_id=NA-SkillsNetwork-Channel-SkillsNetworkCoursesIBMDeveloperSkillsNetworkDL0101ENSkillsNetwork20718188-2021-01-01&utm_campaign=bdu). This notebook and its source code are released under the terms of the [MIT License](https://bigdatauniversity.com/mit-license/?utm_medium=Exinfluencer&utm_source=Exinfluencer&utm_content=000026UJ&utm_term=10006555&utm_id=NA-SkillsNetwork-Channel-SkillsNetworkCoursesIBMDeveloperSkillsNetworkDL0101ENSkillsNetwork20718188-2021-01-01).\n"
   ]
  }
 ],
 "metadata": {
  "kernelspec": {
   "display_name": "Python 3",
   "language": "python",
   "name": "python3"
  },
  "language_info": {
   "codemirror_mode": {
    "name": "ipython",
    "version": 3
   },
   "file_extension": ".py",
   "mimetype": "text/x-python",
   "name": "python",
   "nbconvert_exporter": "python",
   "pygments_lexer": "ipython3",
   "version": "3.8.10"
  }
 },
 "nbformat": 4,
 "nbformat_minor": 4
}
