{
 "cells": [
  {
   "cell_type": "markdown",
   "metadata": {},
   "source": [
    "# Lecture Notes"
   ]
  },
  {
   "cell_type": "markdown",
   "metadata": {},
   "source": [
    "## Week1\n",
    "\n",
    "### Some Applications of Deep Learning\n",
    "\n",
    "\n",
    "- Color restoration: Automatic colorization and color restoration in black and white images\n",
    "- From audio to video\n",
    "- Automatic Handwriting Generation\n",
    "- There is a plathora of other applications\n",
    "     Automatic Machine Translation\n",
    "     Automatically Addig Sounds to Silent Moives\n",
    "     Object Clssification and Detection in Images\n",
    "     Self-Driving Cars\n",
    "     \n",
    "\n",
    "### Three main topics associated with artificial neural networks\n",
    "\n",
    "- Forward Propagation\n",
    "- Backprotagation\n",
    "- Activation Functions (e.g. Sigmoid Function)\n",
    "\n"
   ]
  },
  {
   "cell_type": "markdown",
   "metadata": {},
   "source": [
    "## Week2\n",
    "\n",
    "\n",
    "### Complete training algorithm\n",
    "- Initialize the weights and the biases\n",
    "- Iteratively repeat the following steps (belong to a epoch):\n",
    "    - Calculate network output using the forward propagation including the activation function\n",
    "    - Calculate the error by mean square error\n",
    "    - Update weights and biases through backpropagation\n",
    "- Repeate the three steps until number of interations or epoch is reachaed or the minimum error is reached.\n",
    "\n",
    "### Activation functions\n",
    "\n",
    "Sigmoid Activation function is not good approach for a network that consists of the a large number of hidden layers. Such activation function gives the result in between the 0 and 1 thus the dirivatives are smalls on the initial hidden layers in the back propagation step. That is the reason initial layers are low learners and the remote layers (with respect to the input layer) are high learners.\n",
    "\n",
    "#### Parameter updates:\n",
    "\n",
    "##### For two hidden layers\n",
    "\n",
    "\n",
    "$$w_{new,1} = w_{old,1} - \\eta \\frac{\\delta E}{\\delta w_{1}}$$\n",
    "\n",
    "\\begin{equation}\n",
    "w_{new,1} = w_{old,1} - \\eta \\frac{\\delta E}{\\delta a_{2}} \\frac{\\delta a_{2}}{\\delta z_{2}} \\frac{\\delta z_{2}}{\\delta a_{1}} \\frac{\\delta a_{1}}{\\delta z_{1}} \\frac{\\delta z_{1}}{\\delta w_{1}} \n",
    "\\end{equation}\n",
    "\n",
    "\n",
    "\n",
    "\\begin{equation}\n",
    "w_{new,2} = w_{old,2} - \\eta \\frac{\\delta E}{\\delta a_{2}} \\frac{\\delta a_{2}}{\\delta z_{2}} \\frac{\\delta z_{2}}{\\delta w_{2}}\n",
    "\\end{equation}\n",
    "\n",
    "\n",
    "Where $$ a_{2}=sigmoid funcion(z_{2}) = \\frac{1}{1 + \\exp(-z_{2})} $$\n",
    "\n",
    "\n",
    "So, with increasing the number of derivative factors due to increasing layers number the $\\eta$ term becomes significatly neglegible. That's why sigmoid function is called vanishing gradient.\n",
    "\n",
    "#### Types of activation functions#\n",
    "1. Binary step function:\n",
    "2. Linear Function\n",
    "\n",
    "3. Sigmoid Function\n",
    "The Sigmoid Function $$a = \\frac{1}{1+exp(-z)}$$ is limitted inbetween 0 and 1.\n",
    "\n",
    "4. Hyperbolic Tangent Function\n",
    "The Hyperbolic Tangent function $$a = \\frac{\\exp(z) - \\exp(-z)}{\\exp(z) + \\exp(-z)}$$ limits the activation value +1 to -1. Though it is better than Sigmoid function, as it more slopy than Sigmoid, still it shows diminishing gradient discent propertise. \n",
    "\n",
    "5. ReLu (Rectified Linear Unit)\n",
    "The Relu activation function $$a = \\max(0,z)$$ is the most widely used activation function today. As being non-linear activation function (the function returns zero for z<0), the function does not activate all the nurons at the same time. The pratial nuron activation make the network sparse and very efficient. The function let to overcoming diminishing gradient discent. The function is only used in the hidden layers.\n",
    "6. Leaky ReLu\n",
    "7. Softmax Function\n",
    "The Softmax Function $$ a_{i} = \\frac{\\exp{z_i}}{\\sum\\exp{z_k}}$$ is ideally used in the output layer for classification for each input with probabilit.\n",
    "\n",
    "Among them 3,4,5, and 7 are the more popular activation functions.\n",
    "\n",
    "The activation 3 and 4 are avoided in many application due to vanishing gradient problem."
   ]
  },
  {
   "cell_type": "markdown",
   "metadata": {},
   "source": [
    "## Week3\n"
   ]
  },
  {
   "cell_type": "markdown",
   "metadata": {},
   "source": [
    "### Dense Network\n",
    "\n",
    "The network which connects all the input nodes or nodes from the previous layer to one of the next node is called dense network."
   ]
  },
  {
   "cell_type": "code",
   "execution_count": null,
   "metadata": {},
   "outputs": [],
   "source": []
  }
 ],
 "metadata": {
  "kernelspec": {
   "display_name": "Python 3",
   "language": "python",
   "name": "python3"
  },
  "language_info": {
   "codemirror_mode": {
    "name": "ipython",
    "version": 3
   },
   "file_extension": ".py",
   "mimetype": "text/x-python",
   "name": "python",
   "nbconvert_exporter": "python",
   "pygments_lexer": "ipython3",
   "version": "3.8.10"
  }
 },
 "nbformat": 4,
 "nbformat_minor": 4
}
