{
 "cells": [
  {
   "cell_type": "markdown",
   "metadata": {},
   "source": [
    "<a href=\"https://cognitiveclass.ai/?utm_medium=Exinfluencer&utm_source=Exinfluencer&utm_content=000026UJ&utm_term=10006555&utm_id=NA-SkillsNetwork-Channel-SkillsNetworkCoursesIBMDeveloperSkillsNetworkDL0101ENSkillsNetwork20718188-2021-01-01\"><img src= \"https://s3-api.us-geo.objectstorage.softlayer.net/cf-courses-data/CognitiveClass/Logos/organization_logo/organization_logo.png\" width=500></a>\n",
    "\n",
    "\n",
    "<h1 align=center><font size=5> Regression with deep learning library keras</font><h1>"
   ]
  },
  {
   "cell_type": "markdown",
   "metadata": {},
   "source": [
    "In this lab we will apply Keras library to build nural network for regression. The lab consists of four parts:\n",
    "1. To build baseline model\n",
    "2. Normalize the data\n",
    "3. Increase the number of epochs\n",
    "4. Increase the number of hidden layers\n",
    "\n",
    "### Purpose:\n",
    "After applying all four parts one will be able to understand impacts of Data Normalization, number of epochs and hidden layers on deep learning approach."
   ]
  },
  {
   "cell_type": "code",
   "execution_count": 7,
   "metadata": {},
   "outputs": [],
   "source": [
    "import numpy as np\n",
    "from sklearn.model_selection._split import train_test_split\n",
    "from keras.models import sequential"
   ]
  },
  {
   "cell_type": "code",
   "execution_count": 6,
   "metadata": {},
   "outputs": [
    {
     "ename": "SyntaxError",
     "evalue": "invalid syntax (<ipython-input-6-c90dc343244b>, line 4)",
     "output_type": "error",
     "traceback": [
      "\u001b[0;36m  File \u001b[0;32m\"<ipython-input-6-c90dc343244b>\"\u001b[0;36m, line \u001b[0;32m4\u001b[0m\n\u001b[0;31m    mean=True,\u001b[0m\n\u001b[0m    ^\u001b[0m\n\u001b[0;31mSyntaxError\u001b[0m\u001b[0;31m:\u001b[0m invalid syntax\n"
     ]
    }
   ],
   "source": [
    "def sequetial_model(ilayer, epochs):\n",
    "    \n",
    "    model=sequential()\n",
    "    \n",
    "    \n",
    "\n",
    "def base_model(data, epochs,\n",
    "               repeatation=1,\n",
    "               error_estimation=True\n",
    "               mean=True,\n",
    "               std=True):\n",
    "    if isinstance(data, tuple):\n",
    "        X_train, X_test, y_train, y_test = data\n",
    "    else:\n",
    "        X_train, X_test, y_train, y_test = train_test_split(data, test_size=0.3)\n",
    "        \n",
    "    \n",
    "    "
   ]
  },
  {
   "cell_type": "code",
   "execution_count": null,
   "metadata": {},
   "outputs": [],
   "source": []
  },
  {
   "cell_type": "code",
   "execution_count": null,
   "metadata": {},
   "outputs": [],
   "source": []
  }
 ],
 "metadata": {
  "kernelspec": {
   "display_name": "Python 3",
   "language": "python",
   "name": "python3"
  },
  "language_info": {
   "codemirror_mode": {
    "name": "ipython",
    "version": 3
   },
   "file_extension": ".py",
   "mimetype": "text/x-python",
   "name": "python",
   "nbconvert_exporter": "python",
   "pygments_lexer": "ipython3",
   "version": "3.8.10"
  }
 },
 "nbformat": 4,
 "nbformat_minor": 4
}
