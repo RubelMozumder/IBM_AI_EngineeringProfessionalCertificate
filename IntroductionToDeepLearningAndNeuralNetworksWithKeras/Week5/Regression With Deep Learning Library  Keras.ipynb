{
 "cells": [
  {
   "cell_type": "markdown",
   "metadata": {},
   "source": [
    "<!---<a href=\"https://cognitiveclass.ai/?utm_medium=Exinfluencer&utm_source=Exinfluencer&utm_content=000026UJ&utm_term=10006555&utm_id=NA-SkillsNetwork-Channel-SkillsNetworkCoursesIBMDeveloperSkillsNetworkDL0101ENSkillsNetwork20718188-2021-01-01\"><img src= \"https://s3-api.us-geo.objectstorage.softlayer.net/cf-courses-data/CognitiveClass/Logos/organization_logo/organization_logo.png\" width=500></a>-->\n",
    "\n",
    "<h2 align=center><font size=7> Project</font><h1>\n",
    "<h2 align=center><font size=6> Regression with deep learning library keras</font><h1>"
   ]
  },
  {
   "cell_type": "markdown",
   "metadata": {},
   "source": [
    "In this lab we will apply Keras library to build nural network for regression. The lab consists of four parts:\n",
    "1. To build baseline model\n",
    "2. Normalize the data\n",
    "3. Increase the number of epochs\n",
    "4. Increase the number of hidden layers\n",
    "\n",
    "## Purpose:\n",
    "After applying all four parts one will be able to understand impacts of Data Normalization, number of epochs and hidden layers on deep learning approach."
   ]
  },
  {
   "cell_type": "markdown",
   "metadata": {},
   "source": [
    "## ToDO\n",
    "### A. Build a baseline model (5 marks)\n",
    "\n",
    "Use the Keras library to build a neural network with the following:\n",
    "\n",
    "- One hidden layer of 10 nodes, and a ReLU activation function\n",
    "\n",
    "- Use the **adam** optimizer and the **mean squared error**  as the loss function.\n",
    "\n",
    "\n",
    "\n",
    "1. Randomly split the data into a training and test sets by holding 30% of the data for testing. You can use the train_test_splithelper function from Scikit-learn.\n",
    "\n",
    "2. Train the model on the training data using **50 epochs**.\n",
    "\n",
    "3. Evaluate the model on the test data and compute the mean squared error between the predicted concrete strength and the actual concrete strength. You can use the **mean_squared_error** function from Scikit-learn.\n",
    "\n",
    "4. Repeat steps 1 - 3, **50 times**, i.e., create a list of **50** mean squared errors.\n",
    "\n",
    "5. Report the **mean and the standard deviation of the mean squared errors**.\n",
    "\n",
    "Submit your Jupyter Notebook with your code and comments."
   ]
  },
  {
   "cell_type": "markdown",
   "metadata": {},
   "source": [
    "\n",
    "### B. Normalize the data (5 marks) \n",
    "\n",
    "Repeat Part A **but use a normalized version of the data**. Recall that one way to normalize the data is by subtracting the mean from the individual predictors and dividing by the standard deviation.\n",
    "\n",
    "**How does the mean of the mean squared errors compare to that from Step A?**"
   ]
  },
  {
   "cell_type": "markdown",
   "metadata": {},
   "source": [
    "\n",
    "### C. Increate the number of epochs (5 marks)\n",
    "\n",
    "Repeat Part B **but use 100 epochs this time for training**.\n",
    "\n",
    "**How does the mean of the mean squared errors compare to that from Step B?**"
   ]
  },
  {
   "cell_type": "markdown",
   "metadata": {},
   "source": [
    "### D. Increase the number of hidden layers (5 marks)\n",
    "\n",
    "Repeat part B but use a neural network with the following instead:\n",
    "\n",
    "- Three hidden layers, each of 10 nodes and ReLU activation function.\n",
    "\n",
    "**How does the mean of the mean squared errors compare to that from Step B?**"
   ]
  },
  {
   "cell_type": "code",
   "execution_count": 1,
   "metadata": {},
   "outputs": [],
   "source": [
    "import numpy as np\n",
    "import pandas as pd"
   ]
  },
  {
   "cell_type": "markdown",
   "metadata": {},
   "source": [
    "### Downloding and Loading data"
   ]
  },
  {
   "cell_type": "code",
   "execution_count": 2,
   "metadata": {},
   "outputs": [],
   "source": [
    "#!wget -O concrete_data.csv 'https://cocl.us/concrete_data'\n",
    "\n",
    "plain_data = pd.read_csv('concrete_data.csv')"
   ]
  },
  {
   "cell_type": "code",
   "execution_count": 3,
   "metadata": {},
   "outputs": [
    {
     "name": "stdout",
     "output_type": "stream",
     "text": [
      "Cement                0\n",
      "Blast Furnace Slag    0\n",
      "Fly Ash               0\n",
      "Water                 0\n",
      "Superplasticizer      0\n",
      "Coarse Aggregate      0\n",
      "Fine Aggregate        0\n",
      "Age                   0\n",
      "Strength              0\n",
      "dtype: int64\n"
     ]
    },
    {
     "data": {
      "text/html": [
       "<div>\n",
       "<style scoped>\n",
       "    .dataframe tbody tr th:only-of-type {\n",
       "        vertical-align: middle;\n",
       "    }\n",
       "\n",
       "    .dataframe tbody tr th {\n",
       "        vertical-align: top;\n",
       "    }\n",
       "\n",
       "    .dataframe thead th {\n",
       "        text-align: right;\n",
       "    }\n",
       "</style>\n",
       "<table border=\"1\" class=\"dataframe\">\n",
       "  <thead>\n",
       "    <tr style=\"text-align: right;\">\n",
       "      <th></th>\n",
       "      <th>Cement</th>\n",
       "      <th>Blast Furnace Slag</th>\n",
       "      <th>Fly Ash</th>\n",
       "      <th>Water</th>\n",
       "      <th>Superplasticizer</th>\n",
       "      <th>Coarse Aggregate</th>\n",
       "      <th>Fine Aggregate</th>\n",
       "      <th>Age</th>\n",
       "      <th>Strength</th>\n",
       "    </tr>\n",
       "  </thead>\n",
       "  <tbody>\n",
       "    <tr>\n",
       "      <th>0</th>\n",
       "      <td>540.0</td>\n",
       "      <td>0.0</td>\n",
       "      <td>0.0</td>\n",
       "      <td>162.0</td>\n",
       "      <td>2.5</td>\n",
       "      <td>1040.0</td>\n",
       "      <td>676.0</td>\n",
       "      <td>28</td>\n",
       "      <td>79.99</td>\n",
       "    </tr>\n",
       "    <tr>\n",
       "      <th>1</th>\n",
       "      <td>540.0</td>\n",
       "      <td>0.0</td>\n",
       "      <td>0.0</td>\n",
       "      <td>162.0</td>\n",
       "      <td>2.5</td>\n",
       "      <td>1055.0</td>\n",
       "      <td>676.0</td>\n",
       "      <td>28</td>\n",
       "      <td>61.89</td>\n",
       "    </tr>\n",
       "    <tr>\n",
       "      <th>2</th>\n",
       "      <td>332.5</td>\n",
       "      <td>142.5</td>\n",
       "      <td>0.0</td>\n",
       "      <td>228.0</td>\n",
       "      <td>0.0</td>\n",
       "      <td>932.0</td>\n",
       "      <td>594.0</td>\n",
       "      <td>270</td>\n",
       "      <td>40.27</td>\n",
       "    </tr>\n",
       "    <tr>\n",
       "      <th>3</th>\n",
       "      <td>332.5</td>\n",
       "      <td>142.5</td>\n",
       "      <td>0.0</td>\n",
       "      <td>228.0</td>\n",
       "      <td>0.0</td>\n",
       "      <td>932.0</td>\n",
       "      <td>594.0</td>\n",
       "      <td>365</td>\n",
       "      <td>41.05</td>\n",
       "    </tr>\n",
       "    <tr>\n",
       "      <th>4</th>\n",
       "      <td>198.6</td>\n",
       "      <td>132.4</td>\n",
       "      <td>0.0</td>\n",
       "      <td>192.0</td>\n",
       "      <td>0.0</td>\n",
       "      <td>978.4</td>\n",
       "      <td>825.5</td>\n",
       "      <td>360</td>\n",
       "      <td>44.30</td>\n",
       "    </tr>\n",
       "  </tbody>\n",
       "</table>\n",
       "</div>"
      ],
      "text/plain": [
       "   Cement  Blast Furnace Slag  Fly Ash  Water  Superplasticizer  \\\n",
       "0   540.0                 0.0      0.0  162.0               2.5   \n",
       "1   540.0                 0.0      0.0  162.0               2.5   \n",
       "2   332.5               142.5      0.0  228.0               0.0   \n",
       "3   332.5               142.5      0.0  228.0               0.0   \n",
       "4   198.6               132.4      0.0  192.0               0.0   \n",
       "\n",
       "   Coarse Aggregate  Fine Aggregate  Age  Strength  \n",
       "0            1040.0           676.0   28     79.99  \n",
       "1            1055.0           676.0   28     61.89  \n",
       "2             932.0           594.0  270     40.27  \n",
       "3             932.0           594.0  365     41.05  \n",
       "4             978.4           825.5  360     44.30  "
      ]
     },
     "execution_count": 3,
     "metadata": {},
     "output_type": "execute_result"
    }
   ],
   "source": [
    "print(plain_data.isnull().sum())\n",
    "plain_data.head()"
   ]
  },
  {
   "cell_type": "markdown",
   "metadata": {},
   "source": [
    "### Data seperation to predictors and terget"
   ]
  },
  {
   "cell_type": "code",
   "execution_count": 4,
   "metadata": {},
   "outputs": [],
   "source": [
    "data_columns = plain_data.columns\n",
    "X_plain = plain_data[data_columns[data_columns!='Strength']]\n",
    "y_plain = plain_data[['Strength']]"
   ]
  },
  {
   "cell_type": "code",
   "execution_count": 5,
   "metadata": {},
   "outputs": [],
   "source": [
    "from sklearn.model_selection._split import train_test_split\n",
    "from sklearn.preprocessing import StandardScaler\n",
    "from keras.models import Sequential \n",
    "from keras.layers import Dense, Input\n",
    "import statistics as stat"
   ]
  },
  {
   "cell_type": "code",
   "execution_count": 6,
   "metadata": {},
   "outputs": [],
   "source": [
    "def sequential_model(h_layer=2,\n",
    "                     h_node=[10,1],\n",
    "                     input_shape=(8,),\n",
    "                     activation=['relu'],\n",
    "                     optimizer='adam',\n",
    "                     loss='mean_squared_error',\n",
    "                     metrics=['mse'] \n",
    "                    ):\n",
    "    \"\"\"\n",
    "    Construct model.\n",
    "        To construct model with hidden layers and output layer.\n",
    "\n",
    "    Parameter:\n",
    "    h_layer (int) : Number of layers including the output layer.\n",
    "    h_node (list) : Number of nodes for each layer including the output layer.\n",
    "    input_shape (tuple) : Input nodes for preamble layer.\n",
    "    activation (list) : Activation for each layer with len h_layer-1\n",
    "                        as output layer does not need any activation.\n",
    "    optimizer (string) : Optimization method for optimizing weights.\n",
    "    loss (string) : Loss function for calculating model accuracy.\n",
    "    metrics (list or string) :Metrics to calculate the model perfomance\n",
    "    \"\"\"\n",
    "    \n",
    "\n",
    "    \n",
    "    # Check the h_layer and activation function:\n",
    "    if len(h_node)==h_layer:\n",
    "        pass\n",
    "    \n",
    "    elif len(h_node)==h_layer-1:\n",
    "        h_node.append(1)\n",
    "    else:\n",
    "        print(f'Mention the node number for each h_layer({h_layer}).',\n",
    "              f'The mentioned node is {h_node}')\n",
    "    \n",
    "    if len(activation)==h_layer-1:\n",
    "            pass\n",
    "    else:\n",
    "        print(f'Mention the activation method for each h_layer.',\n",
    "              f'Given h_layer({h_layer}) and activation methodes {activation}.')\n",
    "        \n",
    "    model=Sequential()\n",
    "    model.add(Input(shape=input_shape))\n",
    "    \n",
    "    for h_lye in range(h_layer-1):\n",
    "        model.add(Dense(h_node[h_lye],\n",
    "                        activation=activation[0]))\n",
    "        \n",
    "    model.add(Dense(h_node[-1]))\n",
    "    \n",
    "    model.compile(optimizer=optimizer, \n",
    "                  loss=loss,\n",
    "                   metrics=metrics)\n",
    "    \n",
    "    return model\n",
    "\n",
    "\n",
    "def unique_metrics(errors, metrics):\n",
    "    \"\"\"For combining the error and metrics method together.\"\"\"\n",
    "    \n",
    "    if isinstance(errors, list):\n",
    "        pass\n",
    "    else:\n",
    "        err = errors\n",
    "        errors = []\n",
    "        errors.append(err)\n",
    "    \n",
    "    if isinstance(metrics, list):\n",
    "        pass    \n",
    "    else:\n",
    "        metr = metrics\n",
    "        metrics = []\n",
    "        metrics.append(metr)\n",
    "            \n",
    "    errors_dict = {'mean_square_error':'mse'} #s\n",
    "    metrics_dict = {'mean_square_error': 'mse',\n",
    "                    'accuracy':'acc'}\n",
    "    \n",
    "    errors_key_set = set(errors_dict.keys())#s\n",
    "    metric_key_set = set(metrics_dict.keys())#s\n",
    "    metric_keys = errors_key_set.union(metric_key_set)\n",
    "\n",
    "    for key in metric_keys:       \n",
    "        if key in metrics:\n",
    "            metrics.remove(key)\n",
    "            metrics.append(metrics_dict[key])\n",
    "        if key in errors:\n",
    "            errors.remove(key)\n",
    "            errors.append(errors_dict[key])\n",
    "            \n",
    "    metrics = list(set(errors + metrics))\n",
    "            \n",
    "    return metrics, errors\n",
    "               \n",
    "    \n",
    "    \n",
    "def base_model(X, y,\n",
    "               h_layer,\n",
    "               h_node,\n",
    "               input_shape,\n",
    "               epochs=50,\n",
    "               activation=['relu'],\n",
    "               model_repeat=50,\n",
    "               loss='mean_squared_error',\n",
    "               optimizer='adam',\n",
    "               metrics=['mse'],\n",
    "               errors='mean_square_error',\n",
    "               ):#, func=sequential_model):\n",
    "    \"\"\"\n",
    "    Construct base model.\n",
    "        To construct base model with hidden layers and output layer.\n",
    "        The base allows apply the model on the dataset (predictor and target)\n",
    "        and the repeatation of the model on the same dataset.\n",
    "\n",
    "    Parameter:\n",
    "    X (dataset, numpy array) : Predictors data.\n",
    "    y (dataet, numpy array) : Target data.\n",
    "    h_layer (int) : Number of layers including the output layer.\n",
    "    h_node (list) : Number of nodes for each layer including the output layer.\n",
    "    input_shape (tuple) : Input nodes for preamble layer.\n",
    "    activation (list) : Activation for each layer with len h_layer-1\n",
    "                        as output layer does not need any activation.\n",
    "    model_repeat (int) : Number of the repeatation of the model.\n",
    "    optimizer (string) : Optimization method for optimizing weights.\n",
    "    loss (string) : Loss function for calculating model accuracy.\n",
    "    metrics (list of string or string) :Metrics to calculate the model perfomance.\n",
    "    errors (list of string, string) : The errors collected at each repeataion of \n",
    "                                      model.\n",
    "    \"\"\"\n",
    "    \n",
    "    if isinstance(X, tuple) and isinstance(y, tuple):\n",
    "        try:\n",
    "            X_train, X_test, y_train, y_test = X, y\n",
    "        except TypeError or ValueError:\n",
    "            raise('Please provide X_train and X_test as well as y_train, y_test')\n",
    "    else:\n",
    "        X_train, X_test, y_train, y_test = train_test_split(X, y, test_size=0.3)\n",
    "        \n",
    "    \n",
    "    metrics, errors = unique_metrics(errors, metrics)\n",
    "    print(metrics, errors)\n",
    "    out_ens = []\n",
    "    \n",
    "    model = sequential_model(h_layer,\n",
    "                             h_node,\n",
    "                             input_shape,\n",
    "                             activation=activation, \n",
    "                             optimizer=optimizer,\n",
    "                             loss=loss, \n",
    "                             metrics=metrics)\n",
    "    \n",
    "    for rep_no in range(model_repeat):\n",
    "        out = model.fit(X_train, y_train,\n",
    "                  validation_data=(X_test, y_test),\n",
    "                  epochs=epochs,\n",
    "                  verbose=0)\n",
    "        out_ens.append(out)\n",
    "        \n",
    "    return model, out_ens, errors, metrics\n",
    "\n",
    "\n",
    "def calculate_model_effi(out_ens, errors, metrics):\n",
    "    \"\"\"To extract the errors and metrics from model history.\"\"\"\n",
    "    # for collecting the errors for repeat evaluation, \n",
    "    # as well as mean and standard deviation for error emsemble\n",
    "    errors_dict = dict()\n",
    "    errors_dict['errors_std'] = None\n",
    "    errors_dict['errors_mean'] = None\n",
    "    \n",
    "    metrics_dict = dict()\n",
    "    \n",
    "    for err in errors:\n",
    "        errors_dict[err] = []\n",
    "\n",
    "    for met in metrics:\n",
    "        metrics_dict[met] = []\n",
    "        \n",
    "    for out in out_ens:\n",
    "        for err in errors:\n",
    "            val_key = 'val_' + err\n",
    "            last_err_val = out.history[val_key][-1]\n",
    "            errors_dict[err].append(last_err_val)\n",
    "            \n",
    "        for met in metrics:\n",
    "            val_key = 'val_' + met\n",
    "            last_met_val = out.history[val_key][-1]\n",
    "            metrics_dict[met].append(last_met_val)\n",
    "            \n",
    "    for key in errors_dict.keys():\n",
    "        if key in ['errors_std', 'errors_mean']:\n",
    "            continue\n",
    "        err_ens = errors_dict[key]\n",
    "        errors_dict['errors_std'] = stat.stdev(err_ens)\n",
    "        errors_dict['errors_mean'] = stat.mean(err_ens)\n",
    "     \n",
    "    return errors_dict, metrics_dict\n",
    "    "
   ]
  },
  {
   "cell_type": "markdown",
   "metadata": {},
   "source": [
    "## Part-A"
   ]
  },
  {
   "cell_type": "code",
   "execution_count": 7,
   "metadata": {},
   "outputs": [
    {
     "name": "stdout",
     "output_type": "stream",
     "text": [
      "['mse'] ['mse']\n"
     ]
    }
   ],
   "source": [
    "h_layer = 2\n",
    "h_node = [10,1]\n",
    "activation = ['relu']\n",
    "input_shape = (8,)\n",
    "epochs = 50\n",
    "model_repeat = 50\n",
    "errors = ['mse']\n",
    "metrics = ['mse']\n",
    "model_A, outs_A, errors_A, metrics_A = base_model(X_plain,y_plain,\n",
    "                                                   h_layer=h_layer,\n",
    "                                                   h_node=h_node,\n",
    "                                                   input_shape=input_shape,\n",
    "                                                   activation=activation,\n",
    "                                                   epochs=epochs,\n",
    "                                                   model_repeat=model_repeat,\n",
    "                                                   metrics=metrics,\n",
    "                                                   errors=errors)\n"
   ]
  },
  {
   "cell_type": "code",
   "execution_count": 8,
   "metadata": {},
   "outputs": [],
   "source": [
    "errors_dict, metrics_dict = calculate_model_effi(out_ens=outs_A, \n",
    "                     errors=errors_A, \n",
    "                     metrics=metrics_A)\n",
    "\n",
    "mean = errors_dict.get('errors_mean')\n",
    "std = errors_dict.get('errors_std')\n",
    "mse = errors_dict.get('mse')\n"
   ]
  },
  {
   "cell_type": "code",
   "execution_count": 9,
   "metadata": {},
   "outputs": [],
   "source": [
    "mse_max = max(mse)"
   ]
  },
  {
   "cell_type": "code",
   "execution_count": 10,
   "metadata": {},
   "outputs": [
    {
     "name": "stderr",
     "output_type": "stream",
     "text": [
      "findfont: Font family ['normal'] not found. Falling back to DejaVu Sans.\n",
      "findfont: Font family ['normal'] not found. Falling back to DejaVu Sans.\n"
     ]
    },
    {
     "data": {
      "image/png": "[encoded data removed]",
      "text/plain": [
       "<Figure size 864x720 with 1 Axes>"
      ]
     },
     "metadata": {
      "needs_background": "light"
     },
     "output_type": "display_data"
    }
   ],
   "source": [
    "import matplotlib.pyplot as plt\n",
    "import matplotlib as m\n",
    "\n",
    "\n",
    "font = {'family':'normal',\n",
    "        'weight': 'normal',\n",
    "        'size':16}\n",
    "plt.rc('font',**font)\n",
    "\n",
    "plt.figure(figsize=(12,10))\n",
    "\n",
    "plt.plot(np.arange(model_repeat), mse, 'ro', ls='-', \n",
    "         label='MSE', ms=10)\n",
    "#plt.plot(np.arange(model_repeat), acc, 'bo', ls='-',\n",
    "#         label='Accuracy')\n",
    "\n",
    "plt.text(x=model_repeat/2.0, y= mse_max-mse_max*0.25, s=f'Mean = {np.round(mean,2)}')\n",
    "plt.text(x=model_repeat/2.0, y= mse_max-mse_max*0.30, s=f'std = {np.round(mean,2)}')\n",
    "\n",
    "plt.xlabel(f'Repeataion {model_repeat} of the model (with epochs {epochs} each)')\n",
    "plt.title('Implementaion of part-A')\n",
    "plt.legend()\n",
    "plt.show()"
   ]
  },
  {
   "cell_type": "markdown",
   "metadata": {},
   "source": [
    "## Part-B"
   ]
  },
  {
   "cell_type": "code",
   "execution_count": 11,
   "metadata": {},
   "outputs": [],
   "source": [
    "from sklearn.preprocessing import StandardScaler\n",
    "\n",
    "\n",
    "X_norm = StandardScaler().fit_transform(X_plain)\n",
    "y_norm = StandardScaler().fit_transform(y_plain)"
   ]
  },
  {
   "cell_type": "code",
   "execution_count": 12,
   "metadata": {},
   "outputs": [
    {
     "name": "stdout",
     "output_type": "stream",
     "text": [
      "['mse'] ['mse']\n"
     ]
    }
   ],
   "source": [
    "h_layer = 2\n",
    "h_node = [10,1]\n",
    "activation = ['relu']\n",
    "input_shape = (8,)\n",
    "epochs = 50\n",
    "model_repeat = 50\n",
    "errors = ['mse']\n",
    "metrics = ['mse']\n",
    "Model_B, outs_B, errors_B, metrics_B = base_model(X_norm,y_norm,\n",
    "                                                   h_layer=h_layer,\n",
    "                                                   h_node=h_node,\n",
    "                                                   input_shape=input_shape,\n",
    "                                                   activation=activation,\n",
    "                                                   epochs=epochs,\n",
    "                                                   model_repeat=model_repeat,\n",
    "                                                   metrics=metrics)"
   ]
  },
  {
   "cell_type": "code",
   "execution_count": 13,
   "metadata": {},
   "outputs": [],
   "source": [
    "errors_dict, metrics_dict = calculate_model_effi(out_ens=outs_B, \n",
    "                     errors=errors_B, \n",
    "                     metrics=metrics_B)\n",
    "\n",
    "mean = errors_dict.get('errors_mean')\n",
    "std = errors_dict.get('errors_std')\n",
    "mse = errors_dict.get('mse')\n"
   ]
  },
  {
   "cell_type": "code",
   "execution_count": 14,
   "metadata": {},
   "outputs": [],
   "source": [
    "mse_max = max(mse)"
   ]
  },
  {
   "cell_type": "code",
   "execution_count": 15,
   "metadata": {},
   "outputs": [
    {
     "data": {
      "image/png": "[encoded data removed]",
      "text/plain": [
       "<Figure size 864x720 with 1 Axes>"
      ]
     },
     "metadata": {
      "needs_background": "light"
     },
     "output_type": "display_data"
    }
   ],
   "source": [
    "plt.figure(figsize=(12,10))\n",
    "\n",
    "plt.plot(np.arange(model_repeat), mse, 'ro', ls='-', \n",
    "         label='MSE', ms=10)\n",
    "#plt.plot(np.arange(model_repeat), acc, 'bo', ls='-',\n",
    "#         label='Accuracy')\n",
    "\n",
    "plt.text(x=model_repeat/2.0, y= mse_max-mse_max*0.25, s=f'Mean = {np.round(mean,2)}')\n",
    "plt.text(x=model_repeat/2.0, y= mse_max-mse_max*0.30, s=f'std = {np.round(mean,2)}')\n",
    "\n",
    "plt.xlabel(f'Repeataion {model_repeat} of the model (with epochs {epochs} each)')\n",
    "plt.title('Implementaion of part-B')\n",
    "plt.legend()\n",
    "plt.show()"
   ]
  },
  {
   "cell_type": "markdown",
   "metadata": {},
   "source": [
    "## Part-C"
   ]
  },
  {
   "cell_type": "code",
   "execution_count": 16,
   "metadata": {},
   "outputs": [
    {
     "name": "stdout",
     "output_type": "stream",
     "text": [
      "['mse'] ['mse']\n"
     ]
    }
   ],
   "source": [
    "h_layer = 2\n",
    "h_node = [10,1]\n",
    "activation = ['relu']\n",
    "input_shape = (8,)\n",
    "epochs = 100\n",
    "model_repeat = 50\n",
    "errors = ['mse']\n",
    "metrics = ['mse']\n",
    "Model_C, outs_C, errors_C, metrics_C = base_model(X_norm,y_norm,\n",
    "                                                   h_layer=h_layer,\n",
    "                                                   h_node=h_node,\n",
    "                                                   input_shape=input_shape,\n",
    "                                                   activation=activation,\n",
    "                                                   epochs=epochs,\n",
    "                                                   model_repeat=model_repeat,\n",
    "                                                   metrics=metrics,\n",
    "                                                   errors=errors)"
   ]
  },
  {
   "cell_type": "code",
   "execution_count": 17,
   "metadata": {},
   "outputs": [],
   "source": [
    "errors_dict, metrics_dict = calculate_model_effi(out_ens=outs_C, \n",
    "                     errors=errors_C, \n",
    "                     metrics=metrics_C)\n",
    "\n",
    "mean = errors_dict.get('errors_mean')\n",
    "std = errors_dict.get('errors_std')\n",
    "mse = errors_dict.get('mse')\n"
   ]
  },
  {
   "cell_type": "code",
   "execution_count": 18,
   "metadata": {},
   "outputs": [],
   "source": [
    "mse_max = max(mse)"
   ]
  },
  {
   "cell_type": "code",
   "execution_count": 19,
   "metadata": {},
   "outputs": [
    {
     "data": {
      "image/png": "[encoded data removed]",
      "text/plain": [
       "<Figure size 864x720 with 1 Axes>"
      ]
     },
     "metadata": {
      "needs_background": "light"
     },
     "output_type": "display_data"
    }
   ],
   "source": [
    "plt.figure(figsize=(12,10))\n",
    "\n",
    "plt.plot(np.arange(model_repeat), mse, 'ro', ls='-', \n",
    "         label='MSE', ms=10)\n",
    "#plt.plot(np.arange(model_repeat), acc, 'bo', ls='-',\n",
    " #        label='Accuracy')\n",
    "\n",
    "plt.text(x=model_repeat/2.0, y= mse_max-mse_max*0.25, s=f'Mean = {np.round(mean,2)}')\n",
    "plt.text(x=model_repeat/2.0, y= mse_max-mse_max*0.30, s=f'std = {np.round(mean,2)}')\n",
    "\n",
    "plt.xlabel(f'Repeataion {model_repeat} of the model (with epochs {epochs}) each')\n",
    "plt.title('Implementaion of part-C')\n",
    "plt.legend()\n",
    "plt.show()"
   ]
  },
  {
   "cell_type": "markdown",
   "metadata": {},
   "source": [
    "## Part-D"
   ]
  },
  {
   "cell_type": "code",
   "execution_count": 20,
   "metadata": {},
   "outputs": [
    {
     "name": "stdout",
     "output_type": "stream",
     "text": [
      "['mse'] ['mse']\n"
     ]
    }
   ],
   "source": [
    "h_layer = 4\n",
    "h_node = [10,10,10,1]\n",
    "activation = ['relu','relu', 'relu']\n",
    "input_shape = (8,)\n",
    "epochs = 100\n",
    "model_repeat = 50\n",
    "errors = ['mse']\n",
    "metrics = ['mse']\n",
    "Model_D, outs_D, errors_D, metrics_D = base_model(X_norm,y_norm,\n",
    "                                                   h_layer=h_layer,\n",
    "                                                   h_node=h_node,\n",
    "                                                   input_shape=input_shape,\n",
    "                                                   activation=activation,\n",
    "                                                   epochs=epochs,\n",
    "                                                   model_repeat=model_repeat,\n",
    "                                                   metrics=metrics,\n",
    "                                                   errors=errors)"
   ]
  },
  {
   "cell_type": "code",
   "execution_count": 21,
   "metadata": {},
   "outputs": [],
   "source": [
    "errors_dict, metrics_dict = calculate_model_effi(out_ens=outs_D, \n",
    "                     errors=errors_D, \n",
    "                     metrics=metrics_D)\n",
    "\n",
    "mean = errors_dict.get('errors_mean')\n",
    "std = errors_dict.get('errors_std')\n",
    "mse = errors_dict.get('mse')\n"
   ]
  },
  {
   "cell_type": "code",
   "execution_count": 22,
   "metadata": {},
   "outputs": [],
   "source": [
    "mse_max = max(mse)"
   ]
  },
  {
   "cell_type": "code",
   "execution_count": 23,
   "metadata": {},
   "outputs": [
    {
     "data": {
      "image/png": "[encoded data removed]",
      "text/plain": [
       "<Figure size 864x720 with 1 Axes>"
      ]
     },
     "metadata": {
      "needs_background": "light"
     },
     "output_type": "display_data"
    }
   ],
   "source": [
    "plt.figure(figsize=(12,10))\n",
    "\n",
    "plt.plot(np.arange(model_repeat), mse, 'ro', ls='-', \n",
    "         label='MSE', ms=10)\n",
    "#plt.plot(np.arange(model_repeat), acc, 'bo', ls='-',\n",
    " #        label='Accuracy')\n",
    "\n",
    "plt.text(x=model_repeat/2.0, y= mse_max-mse_max*0.25, s=f'Mean = {np.round(mean,2)}')\n",
    "plt.text(x=model_repeat/2.0, y= mse_max-mse_max*0.30, s=f'std = {np.round(mean,2)}')\n",
    "\n",
    "plt.xlabel(f'Repeataion {model_repeat} of the model (with epochs {epochs}) each')\n",
    "plt.title('Implementaion of part-D')\n",
    "plt.legend()\n",
    "plt.show()"
   ]
  },
  {
   "cell_type": "markdown",
   "metadata": {},
   "source": [
    "## Comments:\n",
    "\n",
    "1. Comparing the plots for part-A and part-B, we can speculate that normalization of features is preferable for optimization of weights.\n",
    "\n",
    "2. Other two plots indicate that after certain accuracy the model can not optimized further even with increasing the layers and training interations. After a threshold mse the model oscilate around a accuracy value. With the diferent and lower learning parameter **$\\alpha$** might help in this stage.\n",
    "\n",
    "3. From my obsevation, the plots or mse values give different pattern or values for different attempts with train test spliting of dataset."
   ]
  },
  {
   "cell_type": "code",
   "execution_count": null,
   "metadata": {},
   "outputs": [],
   "source": []
  }
 ],
 "metadata": {
  "kernelspec": {
   "display_name": "Python 3",
   "language": "python",
   "name": "python3"
  },
  "language_info": {
   "codemirror_mode": {
    "name": "ipython",
    "version": 3
   },
   "file_extension": ".py",
   "mimetype": "text/x-python",
   "name": "python",
   "nbconvert_exporter": "python",
   "pygments_lexer": "ipython3",
   "version": "3.8.10"
  }
 },
 "nbformat": 4,
 "nbformat_minor": 4
}
