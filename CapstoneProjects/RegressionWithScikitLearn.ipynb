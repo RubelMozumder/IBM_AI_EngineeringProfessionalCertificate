{
 "cells": [
  {
   "cell_type": "markdown",
   "metadata": {},
   "source": [
    "# ML-with-python Capstone Project\n",
    "\n",
    "## Project Title: Prediction a customer for a loan paid off or not"
   ]
  },
  {
   "cell_type": "code",
   "execution_count": 151,
   "metadata": {},
   "outputs": [],
   "source": [
    "import numpy as np\n",
    "import pandas as pd\n",
    "import matplotlib.pyplot as plt\n",
    "from sklearn import preprocessing\n",
    "import seaborn as sns"
   ]
  },
  {
   "cell_type": "markdown",
   "metadata": {},
   "source": [
    "To download dataset"
   ]
  },
  {
   "cell_type": "code",
   "execution_count": 152,
   "metadata": {},
   "outputs": [],
   "source": [
    "#!wget -O loan_train.csv https://cf-courses-data.s3.us.cloud-object-storage.appdomain.cloud/IBMDeveloperSkillsNetwork-ML0101EN-SkillsNetwork/labs/FinalModule_Coursera/data/loan_train.csv"
   ]
  },
  {
   "cell_type": "markdown",
   "metadata": {},
   "source": [
    "## Data description\n",
    "This dataset is about past loans. The **Loan_train.csv** data set includes details of 346 customers whose loan are already paid off or defaulted. It includes following fields:\n",
    "\n",
    "| Field          | Description                                                                           |\n",
    "| -------------- | ------------------------------------------------------------------------------------- |\n",
    "| Loan_status    | Whether a loan is paid off on in collection                                           |\n",
    "| Principal      | Basic principal loan amount at the                                                    |\n",
    "| Terms          | Origination terms which can be weekly (7 days), biweekly, and monthly payoff schedule |\n",
    "| Effective_date | When the loan got originated and took effects                                         |\n",
    "| Due_date       | Since it’s one-time payoff schedule, each loan has one single due date                |\n",
    "| Age            | Age of applicant                                                                      |\n",
    "| Education      | Education of applicant                                                                |\n",
    "| Gender         | The gender of applicant                                                               |\n"
   ]
  },
  {
   "cell_type": "markdown",
   "metadata": {},
   "source": [
    "## Data Cleansing and Preparation\n",
    "\n",
    "- Data transformation from catagorical to numerical\n",
    "- Rmoving unnecessary/unrelavent data or features\n",
    "\n",
    "### Data Structure "
   ]
  },
  {
   "cell_type": "code",
   "execution_count": 153,
   "metadata": {},
   "outputs": [
    {
     "name": "stdout",
     "output_type": "stream",
     "text": [
      "Shape of dataset : (346, 10).\n",
      "\n",
      "Data types :\n",
      "Unnamed: 0         int64\n",
      "Unnamed: 0.1       int64\n",
      "loan_status       object\n",
      "Principal          int64\n",
      "terms              int64\n",
      "effective_date    object\n",
      "due_date          object\n",
      "age                int64\n",
      "education         object\n",
      "Gender            object\n",
      "dtype: object\n",
      "\n",
      "Columns: \n",
      "Index(['Unnamed: 0', 'Unnamed: 0.1', 'loan_status', 'Principal', 'terms',\n",
      "       'effective_date', 'due_date', 'age', 'education', 'Gender'],\n",
      "      dtype='object')\n"
     ]
    }
   ],
   "source": [
    "df = pd.read_csv('loan_train.csv')\n",
    "print(f'Shape of dataset : {df.shape}.\\n')\n",
    "print(f'Data types :\\n{df.dtypes}\\n')\n",
    "print(f'Columns: \\n{df.columns}')\n"
   ]
  },
  {
   "cell_type": "code",
   "execution_count": 154,
   "metadata": {},
   "outputs": [
    {
     "name": "stdout",
     "output_type": "stream",
     "text": [
      "Data structure: \n",
      "\n"
     ]
    },
    {
     "data": {
      "text/html": [
       "<div>\n",
       "<style scoped>\n",
       "    .dataframe tbody tr th:only-of-type {\n",
       "        vertical-align: middle;\n",
       "    }\n",
       "\n",
       "    .dataframe tbody tr th {\n",
       "        vertical-align: top;\n",
       "    }\n",
       "\n",
       "    .dataframe thead th {\n",
       "        text-align: right;\n",
       "    }\n",
       "</style>\n",
       "<table border=\"1\" class=\"dataframe\">\n",
       "  <thead>\n",
       "    <tr style=\"text-align: right;\">\n",
       "      <th></th>\n",
       "      <th>Unnamed: 0</th>\n",
       "      <th>Unnamed: 0.1</th>\n",
       "      <th>loan_status</th>\n",
       "      <th>Principal</th>\n",
       "      <th>terms</th>\n",
       "      <th>effective_date</th>\n",
       "      <th>due_date</th>\n",
       "      <th>age</th>\n",
       "      <th>education</th>\n",
       "      <th>Gender</th>\n",
       "    </tr>\n",
       "  </thead>\n",
       "  <tbody>\n",
       "    <tr>\n",
       "      <th>0</th>\n",
       "      <td>0</td>\n",
       "      <td>0</td>\n",
       "      <td>PAIDOFF</td>\n",
       "      <td>1000</td>\n",
       "      <td>30</td>\n",
       "      <td>9/8/2016</td>\n",
       "      <td>10/7/2016</td>\n",
       "      <td>45</td>\n",
       "      <td>High School or Below</td>\n",
       "      <td>male</td>\n",
       "    </tr>\n",
       "    <tr>\n",
       "      <th>1</th>\n",
       "      <td>2</td>\n",
       "      <td>2</td>\n",
       "      <td>PAIDOFF</td>\n",
       "      <td>1000</td>\n",
       "      <td>30</td>\n",
       "      <td>9/8/2016</td>\n",
       "      <td>10/7/2016</td>\n",
       "      <td>33</td>\n",
       "      <td>Bechalor</td>\n",
       "      <td>female</td>\n",
       "    </tr>\n",
       "    <tr>\n",
       "      <th>2</th>\n",
       "      <td>3</td>\n",
       "      <td>3</td>\n",
       "      <td>PAIDOFF</td>\n",
       "      <td>1000</td>\n",
       "      <td>15</td>\n",
       "      <td>9/8/2016</td>\n",
       "      <td>9/22/2016</td>\n",
       "      <td>27</td>\n",
       "      <td>college</td>\n",
       "      <td>male</td>\n",
       "    </tr>\n",
       "    <tr>\n",
       "      <th>3</th>\n",
       "      <td>4</td>\n",
       "      <td>4</td>\n",
       "      <td>PAIDOFF</td>\n",
       "      <td>1000</td>\n",
       "      <td>30</td>\n",
       "      <td>9/9/2016</td>\n",
       "      <td>10/8/2016</td>\n",
       "      <td>28</td>\n",
       "      <td>college</td>\n",
       "      <td>female</td>\n",
       "    </tr>\n",
       "    <tr>\n",
       "      <th>4</th>\n",
       "      <td>6</td>\n",
       "      <td>6</td>\n",
       "      <td>PAIDOFF</td>\n",
       "      <td>1000</td>\n",
       "      <td>30</td>\n",
       "      <td>9/9/2016</td>\n",
       "      <td>10/8/2016</td>\n",
       "      <td>29</td>\n",
       "      <td>college</td>\n",
       "      <td>male</td>\n",
       "    </tr>\n",
       "  </tbody>\n",
       "</table>\n",
       "</div>"
      ],
      "text/plain": [
       "   Unnamed: 0  Unnamed: 0.1 loan_status  Principal  terms effective_date  \\\n",
       "0           0             0     PAIDOFF       1000     30       9/8/2016   \n",
       "1           2             2     PAIDOFF       1000     30       9/8/2016   \n",
       "2           3             3     PAIDOFF       1000     15       9/8/2016   \n",
       "3           4             4     PAIDOFF       1000     30       9/9/2016   \n",
       "4           6             6     PAIDOFF       1000     30       9/9/2016   \n",
       "\n",
       "    due_date  age             education  Gender  \n",
       "0  10/7/2016   45  High School or Below    male  \n",
       "1  10/7/2016   33              Bechalor  female  \n",
       "2  9/22/2016   27               college    male  \n",
       "3  10/8/2016   28               college  female  \n",
       "4  10/8/2016   29               college    male  "
      ]
     },
     "execution_count": 154,
     "metadata": {},
     "output_type": "execute_result"
    }
   ],
   "source": [
    "print(f'Data structure: \\n')\n",
    "df.head()"
   ]
  },
  {
   "cell_type": "markdown",
   "metadata": {},
   "source": [
    "### Visualization of some features"
   ]
  },
  {
   "cell_type": "code",
   "execution_count": 155,
   "metadata": {},
   "outputs": [
    {
     "data": {
      "text/plain": [
       "<matplotlib.legend.Legend at 0x15477d1cf6a0>"
      ]
     },
     "execution_count": 155,
     "metadata": {},
     "output_type": "execute_result"
    },
    {
     "data": {
      "image/png": "[encoded data removed]",
      "text/plain": [
       "<Figure size 576x288 with 2 Axes>"
      ]
     },
     "metadata": {
      "needs_background": "light"
     },
     "output_type": "display_data"
    }
   ],
   "source": [
    "df['effective_date'] = pd.to_datetime(df['effective_date'])\n",
    "df['effective_date'] = df['effective_date'].dt.dayofweek\n",
    "\n",
    "bins = np.linspace(df.effective_date.min(), df.effective_date.max(),7)\n",
    "#fig, axes = plt.subplots(2,2, figsize=(20,20))\n",
    "gp = sns.FacetGrid(df, col='Gender',\n",
    "                   hue='loan_status',\n",
    "                   palette='Set1',\n",
    "                   col_wrap=2, \n",
    "                   height=4,\n",
    "                   aspect=1.0 )\n",
    "gp.map(plt.hist, 'effective_date', bins=len(bins), ec='k')\n",
    "#gp.figure.savefig('delet_1.png')\n",
    "gp.axes[1].legend()"
   ]
  },
  {
   "cell_type": "markdown",
   "metadata": {},
   "source": [
    "It seems, who got the loan begining of the week they are pay their loan off. Let's do feature binarization with a threshold value 3."
   ]
  },
  {
   "cell_type": "code",
   "execution_count": 156,
   "metadata": {},
   "outputs": [
    {
     "data": {
      "text/plain": [
       "<matplotlib.legend.Legend at 0x15477d961880>"
      ]
     },
     "execution_count": 156,
     "metadata": {},
     "output_type": "execute_result"
    },
    {
     "data": {
      "image/png": "[encoded data removed]",
      "text/plain": [
       "<Figure size 576x288 with 2 Axes>"
      ]
     },
     "metadata": {
      "needs_background": "light"
     },
     "output_type": "display_data"
    }
   ],
   "source": [
    "df['due_date'] = pd.to_datetime(df['due_date'])\n",
    "df['due_date'] = df['due_date'].dt.dayofweek\n",
    "\n",
    "bins = np.linspace(df.due_date.min(), df.due_date.max(),7)\n",
    "gp = sns.FacetGrid(df, col='Gender',\n",
    "                   hue='loan_status',\n",
    "                   palette='Set1',\n",
    "                   col_wrap=2,\n",
    "                   height=4,\n",
    "                   aspect=1.0)\n",
    "\n",
    "gp.map(plt.hist, 'due_date', bins=len(bins), ec='k')\n",
    "gp.axes[-1].legend()"
   ]
  },
  {
   "cell_type": "markdown",
   "metadata": {},
   "source": [
    "There is no such epecific pattern for **'loan_status'** regarding **'due_data'**. Thus we can skip this data column."
   ]
  },
  {
   "cell_type": "markdown",
   "metadata": {},
   "source": [
    "Only two data samples are member of 'Master or Above' subclass, Therefore we can exclude the this subclass from our dataset. Oneway to do it transform these subclass, e.g. **'college', Bechalor**, into featurs label. "
   ]
  },
  {
   "cell_type": "code",
   "execution_count": 157,
   "metadata": {},
   "outputs": [
    {
     "data": {
      "text/plain": [
       "(1000    258\n",
       " 800      81\n",
       " 300       3\n",
       " 900       2\n",
       " 500       2\n",
       " Name: Principal, dtype: int64,\n",
       " 30    184\n",
       " 15    148\n",
       " 7      14\n",
       " Name: terms, dtype: int64)"
      ]
     },
     "execution_count": 157,
     "metadata": {},
     "output_type": "execute_result"
    }
   ],
   "source": [
    "df['Principal'].value_counts(),df['terms'].value_counts()"
   ]
  },
  {
   "cell_type": "markdown",
   "metadata": {},
   "source": [
    "### Preparation of features and terget"
   ]
  },
  {
   "cell_type": "code",
   "execution_count": 158,
   "metadata": {},
   "outputs": [],
   "source": [
    "# 0-> for the first 4 days\n",
    "# 1-> for the last 3 days\n",
    "df['effective_date'] = df['effective_date'].apply(lambda x: 1 if (x>3)  else 0)\n",
    "df.drop('due_date', axis=1, inplace=True)\n",
    "\n",
    "Feature = df[['loan_status', 'Principal', 'terms', 'effective_date', \n",
    "              'age', 'education', 'Gender']]\n",
    "# Removin the data sample with Master or Above\n",
    "\n",
    "Feature = Feature[Feature['education']!='Master or Above']\n",
    "Feature = Feature[Feature['Principal'] >= 800]\n",
    "#Feature = Feature[Feature['terms'] > 7]\n",
    "#Feature = pd.concat([Feature, pd.get_dummies(df['education'])], axis=1)\n",
    "#Feature.drop(['Master or Above'], axis=1, inplace=True)\n",
    "\n",
    "Feature['education'].replace(to_replace=['High School or Below', \n",
    "                                         'Bechalor', 'college'], \n",
    "                               value=[0,1,2], inplace=True)\n",
    "le_gender = preprocessing.LabelEncoder().fit(['female', 'male'])\n",
    "Feature['Gender']= le_gender.transform(Feature['Gender'])\n",
    "Feature['loan_status'].replace(to_replace=['PAIDOFF', 'COLLECTION'], \n",
    "                               value=[1,0], inplace=True)\n",
    "X = Feature.drop(['loan_status'], axis=1)\n",
    "y = Feature['loan_status']"
   ]
  },
  {
   "cell_type": "code",
   "execution_count": 159,
   "metadata": {},
   "outputs": [
    {
     "data": {
      "text/html": [
       "<div>\n",
       "<style scoped>\n",
       "    .dataframe tbody tr th:only-of-type {\n",
       "        vertical-align: middle;\n",
       "    }\n",
       "\n",
       "    .dataframe tbody tr th {\n",
       "        vertical-align: top;\n",
       "    }\n",
       "\n",
       "    .dataframe thead th {\n",
       "        text-align: right;\n",
       "    }\n",
       "</style>\n",
       "<table border=\"1\" class=\"dataframe\">\n",
       "  <thead>\n",
       "    <tr style=\"text-align: right;\">\n",
       "      <th></th>\n",
       "      <th>loan_status</th>\n",
       "      <th>Principal</th>\n",
       "      <th>terms</th>\n",
       "      <th>effective_date</th>\n",
       "      <th>age</th>\n",
       "      <th>education</th>\n",
       "      <th>Gender</th>\n",
       "    </tr>\n",
       "  </thead>\n",
       "  <tbody>\n",
       "    <tr>\n",
       "      <th>0</th>\n",
       "      <td>1</td>\n",
       "      <td>1000</td>\n",
       "      <td>30</td>\n",
       "      <td>0</td>\n",
       "      <td>45</td>\n",
       "      <td>0</td>\n",
       "      <td>1</td>\n",
       "    </tr>\n",
       "    <tr>\n",
       "      <th>1</th>\n",
       "      <td>1</td>\n",
       "      <td>1000</td>\n",
       "      <td>30</td>\n",
       "      <td>0</td>\n",
       "      <td>33</td>\n",
       "      <td>1</td>\n",
       "      <td>0</td>\n",
       "    </tr>\n",
       "    <tr>\n",
       "      <th>2</th>\n",
       "      <td>1</td>\n",
       "      <td>1000</td>\n",
       "      <td>15</td>\n",
       "      <td>0</td>\n",
       "      <td>27</td>\n",
       "      <td>2</td>\n",
       "      <td>1</td>\n",
       "    </tr>\n",
       "    <tr>\n",
       "      <th>3</th>\n",
       "      <td>1</td>\n",
       "      <td>1000</td>\n",
       "      <td>30</td>\n",
       "      <td>1</td>\n",
       "      <td>28</td>\n",
       "      <td>2</td>\n",
       "      <td>0</td>\n",
       "    </tr>\n",
       "    <tr>\n",
       "      <th>4</th>\n",
       "      <td>1</td>\n",
       "      <td>1000</td>\n",
       "      <td>30</td>\n",
       "      <td>1</td>\n",
       "      <td>29</td>\n",
       "      <td>2</td>\n",
       "      <td>1</td>\n",
       "    </tr>\n",
       "  </tbody>\n",
       "</table>\n",
       "</div>"
      ],
      "text/plain": [
       "   loan_status  Principal  terms  effective_date  age  education  Gender\n",
       "0            1       1000     30               0   45          0       1\n",
       "1            1       1000     30               0   33          1       0\n",
       "2            1       1000     15               0   27          2       1\n",
       "3            1       1000     30               1   28          2       0\n",
       "4            1       1000     30               1   29          2       1"
      ]
     },
     "execution_count": 159,
     "metadata": {},
     "output_type": "execute_result"
    }
   ],
   "source": [
    "Feature.head()"
   ]
  },
  {
   "cell_type": "markdown",
   "metadata": {},
   "source": [
    "## Data Normalization and Train-test spliting"
   ]
  },
  {
   "cell_type": "code",
   "execution_count": 160,
   "metadata": {},
   "outputs": [],
   "source": [
    "from sklearn.model_selection import train_test_split\n",
    "X[['Principal', 'terms', 'age',]] = preprocessing.StandardScaler().fit(X[['Principal','terms', 'age',]]\n",
    "                                                                      ).transform(X[['Principal', 'terms', 'age',]])\n",
    "X_train, X_test, y_train, y_test = train_test_split(X, y, test_size=0.25,)"
   ]
  },
  {
   "cell_type": "markdown",
   "metadata": {},
   "source": [
    "## Classification Algorithm\n",
    "### K-Nearest Neighbour"
   ]
  },
  {
   "cell_type": "code",
   "execution_count": 161,
   "metadata": {},
   "outputs": [],
   "source": [
    "from sklearn.neighbors import KNeighborsClassifier \n",
    "from sklearn.metrics import jaccard_score, f1_score, log_loss, confusion_matrix"
   ]
  },
  {
   "cell_type": "code",
   "execution_count": 162,
   "metadata": {},
   "outputs": [],
   "source": [
    "k = range(20)[3:]\n",
    "jac_metrics = []\n",
    "log_metrics = []\n",
    "f1_metrics = []\n",
    "for i in k: \n",
    "    \n",
    "    knc = KNeighborsClassifier(n_neighbors=i, p=2)\n",
    "    knc.fit(X_train, y_train)\n",
    "    y_hat = knc.predict(X_test)\n",
    "    \n",
    "    ja = jaccard_score(y_true=y_test, y_pred=y_hat)\n",
    "    jac_metrics.append(ja)\n",
    "    ll = 1-log_loss(y_true=y_test, y_pred=y_hat) /len(y_test)\n",
    "    log_metrics.append(ll)\n",
    "    f1 = f1_score(y_true=y_test, y_pred=y_hat)\n",
    "    f1_metrics.append(f1)"
   ]
  },
  {
   "cell_type": "code",
   "execution_count": 163,
   "metadata": {},
   "outputs": [
    {
     "data": {
      "text/plain": [
       "<matplotlib.legend.Legend at 0x15477d337310>"
      ]
     },
     "execution_count": 163,
     "metadata": {},
     "output_type": "execute_result"
    },
    {
     "data": {
      "image/png": "[encoded data removed]",
      "text/plain": [
       "<Figure size 576x576 with 1 Axes>"
      ]
     },
     "metadata": {
      "needs_background": "light"
     },
     "output_type": "display_data"
    }
   ],
   "source": [
    "k_best = []\n",
    "k_best.append(k[jac_metrics.index(max(jac_metrics))])\n",
    "k_best.append(k[log_metrics.index(max(log_metrics))])\n",
    "k_best.append(k[f1_metrics.index(max(f1_metrics))])\n",
    "k_best = max(k_best, key = k_best.count)\n",
    "\n",
    "plt.figure(figsize=(8,8))\n",
    "plt.plot(k, jac_metrics, 'g', label='Jaccard index')\n",
    "plt.plot(k, log_metrics, 'b', label='1-log_loss')\n",
    "plt.plot(k, f1_metrics, 'r', label='f1 prcession')\n",
    "plt.xlabel('neighbour number(k)')\n",
    "plt.ylabel('accuracy')\n",
    "plt.title('k-Nearest Neighbour Algorithm')\n",
    "plt.axvline(k_best, ls=':', alpha=0.5, color='gray', label='Optimum k value')\n",
    "plt.legend()"
   ]
  },
  {
   "cell_type": "markdown",
   "metadata": {},
   "source": [
    "#### Calclating the confusion matrix"
   ]
  },
  {
   "cell_type": "code",
   "execution_count": 164,
   "metadata": {},
   "outputs": [],
   "source": [
    "knc = KNeighborsClassifier(n_neighbors=k_best, p=2)\n",
    "knc.fit(X_train, y_train)\n",
    "y_hat = knc.predict(X_test)\n",
    "\n",
    "Conf_matr = np.zeros(shape=(2,2), dtype=int)\n",
    "for (i,j) in zip(y_test, y_hat):\n",
    "    if i==0:\n",
    "        if j==0:\n",
    "            Conf_matr[0,0] = Conf_matr[0, 0] + 1\n",
    "        else:\n",
    "            Conf_matr[0,1] = Conf_matr[0, 1] + 1\n",
    "    else:\n",
    "        if j==0: \n",
    "            Conf_matr[1,0] = Conf_matr[1,0] + 1\n",
    "        else:\n",
    "            Conf_matr[1,1] = Conf_matr[1,1] + 1\n",
    "#Conf_matr==confusion_matrix(y_true=y_test, y_pred=y_hat)"
   ]
  },
  {
   "cell_type": "code",
   "execution_count": 165,
   "metadata": {},
   "outputs": [
    {
     "name": "stdout",
     "output_type": "stream",
     "text": [
      " Metrics for KNeighborsClassifier --\n",
      " Jaccard score :  0.76\n",
      " 1-logloss :  0.9139507306459939\n",
      " F1 score :  0.8636363636363636\n"
     ]
    }
   ],
   "source": [
    "ja = jaccard_score(y_true=y_test, y_pred=y_hat)\n",
    "ll = 1-log_loss(y_true=y_test, y_pred=y_hat) /len(y_test)\n",
    "f1 = f1_score(y_true=y_test, y_pred=y_hat)\n",
    "\n",
    "print(' Metrics for KNeighborsClassifier --')\n",
    "print(' Jaccard score : ', ja)\n",
    "print(' 1-logloss : ', ll)\n",
    "print(' F1 score : ', f1)"
   ]
  },
  {
   "cell_type": "code",
   "execution_count": 166,
   "metadata": {},
   "outputs": [],
   "source": [
    "import itertools\n",
    "def plot_confusion_matrix(cm, classes,\n",
    "                          normalize=False,\n",
    "                          title='Confusion matrix',\n",
    "                          cmap=plt.cm.Blues):\n",
    "    \"\"\"\n",
    "    This function prints and plots the confusion matrix.\n",
    "    Normalization can be applied by setting `normalize=True`.\n",
    "    \"\"\"\n",
    "    if normalize:\n",
    "        cm = cm.astype('float') / cm.sum(axis=1)[:, np.newaxis]\n",
    "        print(\"Normalized confusion matrix\")\n",
    "    else:\n",
    "        print('Confusion matrix, without normalization')\n",
    "\n",
    "    print(cm)\n",
    "\n",
    "    plt.imshow(cm, interpolation='nearest', cmap=cmap)\n",
    "    plt.title(title)\n",
    "    plt.colorbar()\n",
    "    tick_marks = np.arange(len(classes))\n",
    "    plt.xticks(tick_marks, classes, rotation=45)\n",
    "    plt.yticks(tick_marks, classes)\n",
    "\n",
    "    fmt = '.2f' if normalize else 'd'\n",
    "    thresh = cm.max() / 2.\n",
    "    for i, j in itertools.product(range(cm.shape[0]), range(cm.shape[1])):\n",
    "        plt.text(j, i, format(cm[i, j], fmt),\n",
    "                 horizontalalignment=\"center\",\n",
    "                 color=\"white\" if cm[i, j] > thresh else \"black\")\n",
    "\n",
    "    plt.tight_layout()\n",
    "    plt.ylabel('True label')\n",
    "    plt.xlabel('Predicted label')"
   ]
  },
  {
   "cell_type": "code",
   "execution_count": 167,
   "metadata": {},
   "outputs": [
    {
     "name": "stdout",
     "output_type": "stream",
     "text": [
      "Confusion matrix, without normalization\n",
      "[[10 10]\n",
      " [ 8 57]]\n"
     ]
    },
    {
     "data": {
      "image/png": "[encoded data removed]",
      "text/plain": [
       "<Figure size 432x288 with 2 Axes>"
      ]
     },
     "metadata": {
      "needs_background": "light"
     },
     "output_type": "display_data"
    }
   ],
   "source": [
    "plot_confusion_matrix(cm=Conf_matr,\n",
    "                      title='Confusion matrix with K-Nearest Neighbour',\n",
    "                       classes=['COLLECTION(0)', 'PAIDOFF(1)'])"
   ]
  },
  {
   "cell_type": "markdown",
   "metadata": {},
   "source": [
    "### Decision Tree Algorithm"
   ]
  },
  {
   "cell_type": "code",
   "execution_count": 168,
   "metadata": {},
   "outputs": [],
   "source": [
    "from sklearn.tree import DecisionTreeClassifier\n",
    "criterion = 'gini'#'entropy'\n",
    "dtc = DecisionTreeClassifier(criterion=criterion)\n",
    "dtc.fit(X_train, y_train)\n",
    "y_hat = dtc.predict(X_test)\n"
   ]
  },
  {
   "cell_type": "code",
   "execution_count": 169,
   "metadata": {},
   "outputs": [
    {
     "name": "stdout",
     "output_type": "stream",
     "text": [
      " Metrics for Decision Tree Algorithm--\n",
      " Jaccard score :  0.6619718309859155\n",
      " 1-logloss :  0.8852684524481055\n",
      " F1 score :  0.7966101694915254\n"
     ]
    }
   ],
   "source": [
    "ja = jaccard_score(y_true=y_test, y_pred=y_hat)\n",
    "ll = 1-log_loss(y_true=y_test, y_pred=y_hat) /len(y_test)\n",
    "f1 = f1_score(y_true=y_test, y_pred=y_hat)\n",
    "\n",
    "print(' Metrics for Decision Tree Algorithm--')\n",
    "print(' Jaccard score : ', ja)\n",
    "print(' 1-logloss : ', ll)\n",
    "print(' F1 score : ', f1)"
   ]
  },
  {
   "cell_type": "code",
   "execution_count": 170,
   "metadata": {},
   "outputs": [
    {
     "data": {
      "text/plain": [
       "1    65\n",
       "0    20\n",
       "Name: loan_status, dtype: int64"
      ]
     },
     "execution_count": 170,
     "metadata": {},
     "output_type": "execute_result"
    }
   ],
   "source": [
    "y_test.value_counts()"
   ]
  },
  {
   "cell_type": "markdown",
   "metadata": {},
   "source": [
    "#### Calclating the confusion matrix"
   ]
  },
  {
   "cell_type": "code",
   "execution_count": 171,
   "metadata": {},
   "outputs": [
    {
     "name": "stdout",
     "output_type": "stream",
     "text": [
      "Confusion matrix, without normalization\n",
      "[[14  6]\n",
      " [18 47]]\n"
     ]
    },
    {
     "data": {
      "image/png": "[encoded data removed]",
      "text/plain": [
       "<Figure size 432x288 with 2 Axes>"
      ]
     },
     "metadata": {
      "needs_background": "light"
     },
     "output_type": "display_data"
    }
   ],
   "source": [
    "Conf_matr = confusion_matrix(y_true=y_test, \n",
    "                 y_pred=y_hat)\n",
    "\n",
    "plot_confusion_matrix(cm=Conf_matr,\n",
    "                      title='Confusion matrix with Decision Tree',\n",
    "                      classes=['COLLECTION(0)', 'PAIDOFF(1)'])"
   ]
  },
  {
   "cell_type": "markdown",
   "metadata": {},
   "source": [
    "### Support Vector Machine Algorithm"
   ]
  },
  {
   "cell_type": "markdown",
   "metadata": {},
   "source": [
    "#### With rbf kernel"
   ]
  },
  {
   "cell_type": "code",
   "execution_count": 172,
   "metadata": {},
   "outputs": [],
   "source": [
    "from sklearn import svm\n",
    "svm_al = svm.SVC(kernel='rbf', gamma='scale')\n",
    "svm_al.fit(X_train, y_train)\n",
    "\n",
    "y_hat = svm_al.predict(X_test)"
   ]
  },
  {
   "cell_type": "code",
   "execution_count": 173,
   "metadata": {},
   "outputs": [
    {
     "name": "stdout",
     "output_type": "stream",
     "text": [
      " Metrics for Support Vector Machine with rbf kernel --\n",
      " Jaccard score :  0.7647058823529411\n",
      " 1-logloss :  0.904388716976219\n",
      " F1 score :  0.8666666666666666\n"
     ]
    }
   ],
   "source": [
    "ja = jaccard_score(y_true=y_test, y_pred=y_hat)\n",
    "ll = 1-log_loss(y_true=y_test, y_pred=y_hat) /len(y_test)\n",
    "f1 = f1_score(y_true=y_test, y_pred=y_hat)\n",
    "\n",
    "print(' Metrics for Support Vector Machine with rbf kernel --')\n",
    "print(' Jaccard score : ', ja)\n",
    "print(' 1-logloss : ', ll)\n",
    "print(' F1 score : ', f1)"
   ]
  },
  {
   "cell_type": "markdown",
   "metadata": {},
   "source": [
    "#### Calclating the confusion matrix"
   ]
  },
  {
   "cell_type": "code",
   "execution_count": 174,
   "metadata": {},
   "outputs": [
    {
     "name": "stdout",
     "output_type": "stream",
     "text": [
      "Confusion matrix, without normalization\n",
      "[[ 0 20]\n",
      " [ 0 65]]\n"
     ]
    },
    {
     "data": {
      "image/png": "[encoded data removed]",
      "text/plain": [
       "<Figure size 432x288 with 2 Axes>"
      ]
     },
     "metadata": {
      "needs_background": "light"
     },
     "output_type": "display_data"
    }
   ],
   "source": [
    "Conf_matr = confusion_matrix(y_true=y_test, \n",
    "                 y_pred=y_hat)\n",
    "\n",
    "plot_confusion_matrix(cm=Conf_matr,\n",
    "                      title='Confusion matrix with Support Vector Machine (rbf)',\n",
    "                      classes=['COLLECTION(0)', 'PAIDOFF(1)'])"
   ]
  },
  {
   "cell_type": "markdown",
   "metadata": {},
   "source": [
    "#### With polynomial (poly) kernel"
   ]
  },
  {
   "cell_type": "code",
   "execution_count": 175,
   "metadata": {},
   "outputs": [],
   "source": [
    "#{'linear', 'poly', 'rbf', 'sigmoid', 'precomputed'}\n",
    "from sklearn import svm\n",
    "svm_al = svm.SVC(kernel='poly', degree=9)\n",
    "svm_al.fit(X_train, y_train)\n",
    "\n",
    "y_hat = svm_al.predict(X_test)"
   ]
  },
  {
   "cell_type": "code",
   "execution_count": 176,
   "metadata": {},
   "outputs": [
    {
     "name": "stdout",
     "output_type": "stream",
     "text": [
      " Metrics for Support Vector Machine with poly kernel --\n",
      " Jaccard score :  0.7349397590361446\n",
      " 1-logloss :  0.8948280313575393\n",
      " F1 score :  0.8472222222222223\n"
     ]
    }
   ],
   "source": [
    "ja = jaccard_score(y_true=y_test, y_pred=y_hat)\n",
    "ll = 1-log_loss(y_true=y_test, y_pred=y_hat) /len(y_test)\n",
    "f1 = f1_score(y_true=y_test, y_pred=y_hat)\n",
    "\n",
    "print(' Metrics for Support Vector Machine with poly kernel --')\n",
    "print(' Jaccard score : ', ja)\n",
    "print(' 1-logloss : ', ll)\n",
    "print(' F1 score : ', f1)"
   ]
  },
  {
   "cell_type": "code",
   "execution_count": 177,
   "metadata": {},
   "outputs": [
    {
     "name": "stdout",
     "output_type": "stream",
     "text": [
      "Confusion matrix, without normalization\n",
      "[[ 2 18]\n",
      " [ 4 61]]\n"
     ]
    },
    {
     "data": {
      "image/png": "[encoded data removed]",
      "text/plain": [
       "<Figure size 432x288 with 2 Axes>"
      ]
     },
     "metadata": {
      "needs_background": "light"
     },
     "output_type": "display_data"
    }
   ],
   "source": [
    "Conf_matr = confusion_matrix(y_true=y_test, \n",
    "                 y_pred=y_hat)\n",
    "\n",
    "plot_confusion_matrix(cm=Conf_matr,\n",
    "                      title='Confusion matrix with Support Vecctor Machine (poly)',\n",
    "                      classes=['COLLECTION(0)', 'PAIDOFF(1)'])"
   ]
  },
  {
   "cell_type": "markdown",
   "metadata": {},
   "source": [
    "### Clssification with Logistic Regression"
   ]
  },
  {
   "cell_type": "code",
   "execution_count": 178,
   "metadata": {},
   "outputs": [],
   "source": [
    "from sklearn.linear_model import LogisticRegression\n",
    "from sklearn.metrics import confusion_matrix\n",
    "lr = LogisticRegression(C=0.1, solver='liblinear').fit(X_train,y_train)\n",
    "\n",
    "y_hat = lr.predict(X_test)"
   ]
  },
  {
   "cell_type": "code",
   "execution_count": 179,
   "metadata": {},
   "outputs": [
    {
     "name": "stdout",
     "output_type": "stream",
     "text": [
      " Metrics for Support Vector Machine with poly kernel --\n",
      " Jaccard score :  0.7738095238095238\n",
      " 1-logloss :  0.909169281127408\n",
      " F1 score :  0.8724832214765101\n"
     ]
    }
   ],
   "source": [
    "ja = jaccard_score(y_true=y_test, y_pred=y_hat)\n",
    "ll = 1-log_loss(y_true=y_test, y_pred=y_hat) /len(y_test)\n",
    "f1 = f1_score(y_true=y_test, y_pred=y_hat)\n",
    "\n",
    "print(' Metrics for Support Vector Machine with poly kernel --')\n",
    "print(' Jaccard score : ', ja)\n",
    "print(' 1-logloss : ', ll)\n",
    "print(' F1 score : ', f1)"
   ]
  },
  {
   "cell_type": "code",
   "execution_count": 180,
   "metadata": {},
   "outputs": [
    {
     "name": "stdout",
     "output_type": "stream",
     "text": [
      "Confusion matrix, without normalization\n",
      "[[ 1 19]\n",
      " [ 0 65]]\n"
     ]
    },
    {
     "data": {
      "image/png": "[encoded data removed]",
      "text/plain": [
       "<Figure size 432x288 with 2 Axes>"
      ]
     },
     "metadata": {
      "needs_background": "light"
     },
     "output_type": "display_data"
    }
   ],
   "source": [
    "Conf_matr = confusion_matrix(y_true=y_test, \n",
    "                 y_pred=y_hat)\n",
    "\n",
    "plot_confusion_matrix(cm=Conf_matr,\n",
    "                      title='Confusion matrix with Logistic regression',\n",
    "                      classes=['COLLECTION(0)', 'PAIDOFF(1)'])"
   ]
  },
  {
   "cell_type": "markdown",
   "metadata": {},
   "source": [
    "## Observation and Conclusion\n",
    "- Data cleansing and preparation is important part of ML as it improves the results. For example removing two samples corresponds to the `education[Master or Above`] and five samples associated with `Principle[<800]` improves the confusion matrix, though the changes in the accuracy is not significant.\n",
    "- The metrics discussed here give almost the same accuracy over different attempts.\n",
    "- Significant changes in confusion matrix have observed over the different attempts, e.g. on some attempts the confusion matrix gives better result in both `PAIDOFF(1)` and `COLLECION(0)` and on other attempts better result comes only in qestion of `PAIDOFF`.\n",
    "- Regarding the overall performances, the algorithm Decision Tree renders better prediction.  \n",
    "- Cross-validation might be a resovent for point(3) which will improve the parameters( $\\large{\\theta}$ from the expression $\\large{\\theta}^\\intercal\\large{x}$ ) implementing algorithm over the attempts. "
   ]
  }
 ],
 "metadata": {
  "jupytext": {
   "formats": "ipynb,md"
  },
  "kernelspec": {
   "display_name": "Python 3",
   "language": "python",
   "name": "python3"
  },
  "language_info": {
   "codemirror_mode": {
    "name": "ipython",
    "version": 3
   },
   "file_extension": ".py",
   "mimetype": "text/x-python",
   "name": "python",
   "nbconvert_exporter": "python",
   "pygments_lexer": "ipython3",
   "version": "3.8.10"
  }
 },
 "nbformat": 4,
 "nbformat_minor": 4
}
