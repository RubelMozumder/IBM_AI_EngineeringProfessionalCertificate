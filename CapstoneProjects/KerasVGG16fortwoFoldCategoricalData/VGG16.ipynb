{
 "cells": [
  {
   "cell_type": "markdown",
   "metadata": {
    "button": false,
    "new_sheet": false,
    "run_control": {
     "read_only": false
    }
   },
   "source": [
    "<a href=\"https://cognitiveclass.ai\"><img src = \"https://s3-api.us-geo.objectstorage.softlayer.net/cf-courses-data/CognitiveClass/Logos/organization_logo/organization_logo.png\" width = 400> </a>\n",
    "\n",
    "<h1 align=center><font size = 5>Peer Review Final Assignment</font></h1>"
   ]
  },
  {
   "cell_type": "markdown",
   "metadata": {
    "button": false,
    "new_sheet": false,
    "run_control": {
     "read_only": false
    }
   },
   "source": [
    "## Introduction\n"
   ]
  },
  {
   "cell_type": "markdown",
   "metadata": {
    "button": false,
    "new_sheet": false,
    "run_control": {
     "read_only": false
    }
   },
   "source": [
    "In this lab, We will build an image classifier using the VGG16 pre-trained model, and we will evaluate it and compare its performance to the model we built in the last module using the ResNet50 pre-trained model."
   ]
  },
  {
   "cell_type": "markdown",
   "metadata": {
    "button": false,
    "new_sheet": false,
    "run_control": {
     "read_only": false
    }
   },
   "source": [
    "## Table of Contents\n",
    "\n",
    "<div class=\"alert alert-block alert-info\" style=\"margin-top: 20px\">\n",
    "\n",
    "<font size = 3>    \n",
    "\n",
    "1. <a href=\"#item41\">Download Data \n",
    "2. <a href=\"#item42\">Part 1</a>\n",
    "3. <a href=\"#item43\">Part 2</a>  \n",
    "4. <a href=\"#item44\">Part 3</a>  \n",
    "\n",
    "</font>\n",
    "    \n",
    "</div>"
   ]
  },
  {
   "cell_type": "markdown",
   "metadata": {
    "button": false,
    "new_sheet": false,
    "run_control": {
     "read_only": false
    }
   },
   "source": [
    "   "
   ]
  },
  {
   "cell_type": "markdown",
   "metadata": {},
   "source": [
    "<a id=\"item41\"></a>"
   ]
  },
  {
   "cell_type": "markdown",
   "metadata": {},
   "source": [
    "## Download Data"
   ]
  },
  {
   "cell_type": "markdown",
   "metadata": {},
   "source": [
    "We use the <code>wget</code> command to download the data for this assignment from here: https://s3-api.us-geo.objectstorage.softlayer.net/cf-courses-data/CognitiveClass/DL0321EN/data/concrete_data_week4.zip"
   ]
  },
  {
   "cell_type": "markdown",
   "metadata": {},
   "source": [
    "To use the following cells to download the data."
   ]
  },
  {
   "cell_type": "code",
   "execution_count": 1,
   "metadata": {},
   "outputs": [],
   "source": [
    "#!wget -O ./Data/concrete_data.zip https://s3-api.us-geo.objectstorage.softlayer.net/cf-courses-data/CognitiveClass/DL0321EN/data/concrete_data_week4.zip"
   ]
  },
  {
   "cell_type": "markdown",
   "metadata": {},
   "source": [
    "After unziping the data, we fill find the data has already been divided into a train, validation, and test sets."
   ]
  },
  {
   "cell_type": "code",
   "execution_count": 2,
   "metadata": {
    "lines_to_next_cell": 0
   },
   "outputs": [],
   "source": [
    "#!unzip ./Data/concrete_data.zip -d ./Src/Data/"
   ]
  },
  {
   "cell_type": "markdown",
   "metadata": {},
   "source": [
    "\n",
    "  "
   ]
  },
  {
   "cell_type": "markdown",
   "metadata": {
    "button": false,
    "new_sheet": false,
    "run_control": {
     "read_only": false
    }
   },
   "source": [
    "<a id=\"item42\"></a>"
   ]
  },
  {
   "cell_type": "markdown",
   "metadata": {},
   "source": [
    "## Part 1"
   ]
  },
  {
   "cell_type": "markdown",
   "metadata": {},
   "source": [
    "In this part, we will design a classifier using the VGG16 pre-trained model. Just like the ResNet50 model, we can import the model <code>VGG16</code> from <code>keras.applications</code>."
   ]
  },
  {
   "cell_type": "markdown",
   "metadata": {},
   "source": [
    "We will essentially build your classifier as follows:\n",
    "1. To import libraries, modules, and packages we need. To import the *preprocess_input* function from <code>keras.applications.vgg16</code>.\n",
    "2. A batch size of 100 images for both training and validation.\n",
    "3. To construct an ImageDataGenerator for the training set and another one for the validation set. VGG16 was originally trained on 224 × 224 images, so we make sure to address that when defining the ImageDataGenerator instances.\n",
    "4. To create a sequential model using Keras. To add VGG16 model to it and dense layer.\n",
    "5. To compile the mode using the adam optimizer and the categorical_crossentropy loss function.\n",
    "6. Fitting the model on the augmented data using the ImageDataGenerators."
   ]
  },
  {
   "cell_type": "markdown",
   "metadata": {},
   "source": [
    "The following cells to create the classifier."
   ]
  },
  {
   "cell_type": "code",
   "execution_count": 3,
   "metadata": {},
   "outputs": [],
   "source": [
    "import keras\n",
    "from keras.models import Sequential\n",
    "from keras.layers import Dense\n",
    "from keras.preprocessing.image import ImageDataGenerator\n",
    "import numpy as np\n",
    "from keras.applications.vgg16 import VGG16\n",
    "from keras.applications.vgg16 import preprocess_input"
   ]
  },
  {
   "cell_type": "code",
   "execution_count": 4,
   "metadata": {},
   "outputs": [],
   "source": [
    "num_classes = 2\n",
    "image_resize = 224\n",
    "\n",
    "batch_size_training = 100\n",
    "batch_size_validation = 100\n",
    "\n",
    "ImgGentr = ImageDataGenerator(\n",
    "    preprocessing_function=preprocess_input)"
   ]
  },
  {
   "cell_type": "markdown",
   "metadata": {},
   "source": [
    "##### Image data generator for train and validation data group"
   ]
  },
  {
   "cell_type": "code",
   "execution_count": 14,
   "metadata": {
    "scrolled": true
   },
   "outputs": [
    {
     "name": "stdout",
     "output_type": "stream",
     "text": [
      "Found 30001 images belonging to 2 classes.\n",
      "Found 9501 images belonging to 2 classes.\n"
     ]
    }
   ],
   "source": [
    "TrainGentr = ImgGentr.flow_from_directory('./Src/Data/concrete_data_week4/train/',\n",
    "                     batch_size=batch_size_training,\n",
    "                     target_size=(image_resize, image_resize),\n",
    "                     class_mode='categorical')\n",
    "ValGentr = ImgGentr.flow_from_directory('./Src/Data/concrete_data_week4/valid/',\n",
    "                     batch_size=batch_size_validation,\n",
    "                     target_size=(image_resize, image_resize),\n",
    "                     class_mode='categorical')"
   ]
  },
  {
   "cell_type": "markdown",
   "metadata": {},
   "source": [
    "Creating Sequential objects for stacking Conv layers and densed layer. "
   ]
  },
  {
   "cell_type": "code",
   "execution_count": 5,
   "metadata": {},
   "outputs": [],
   "source": [
    "model_vgg16 = Sequential()"
   ]
  },
  {
   "cell_type": "markdown",
   "metadata": {},
   "source": [
    "###### Sequencing of the pretrained layers and newly outer layer (to be trained) "
   ]
  },
  {
   "cell_type": "code",
   "execution_count": 64,
   "metadata": {},
   "outputs": [],
   "source": [
    "img_shape= np.shape(TrainGentr[0][0])[1:]\n",
    "model_vgg16.add(VGG16(input_shape=img_shape,\n",
    "    include_top=False,\n",
    "    pooling='avg',\n",
    "    weights='imagenet',\n",
    "    ))\n",
    "model_vgg16.add(Dense(num_classes, activation='softmax'))\n",
    "model_vgg16.layers[0].trainable = False\n",
    "model_vgg16.compile(optimizer='adam', \n",
    "                    loss='categorical_crossentropy', \n",
    "                    metrics=['accuracy'])"
   ]
  },
  {
   "cell_type": "code",
   "execution_count": 66,
   "metadata": {},
   "outputs": [
    {
     "name": "stdout",
     "output_type": "stream",
     "text": [
      "Model: \"sequential\"\n",
      "_________________________________________________________________\n",
      " Layer (type)                Output Shape              Param #   \n",
      "=================================================================\n",
      " vgg16 (Functional)          (None, 512)               14714688  \n",
      "                                                                 \n",
      " dense (Dense)               (None, 2)                 1026      \n",
      "                                                                 \n",
      "=================================================================\n",
      "Total params: 14,715,714\n",
      "Trainable params: 1,026\n",
      "Non-trainable params: 14,714,688\n",
      "_________________________________________________________________\n"
     ]
    }
   ],
   "source": [
    "model_vgg16.summary()"
   ]
  },
  {
   "cell_type": "markdown",
   "metadata": {},
   "source": [
    "###### To train and validate the model VGG16"
   ]
  },
  {
   "cell_type": "code",
   "execution_count": 15,
   "metadata": {
    "lines_to_next_cell": 0
   },
   "outputs": [
    {
     "name": "stderr",
     "output_type": "stream",
     "text": [
      "<ipython-input-15-57c961e02e08>:5: UserWarning: `Model.fit_generator` is deprecated and will be removed in a future version. Please use `Model.fit`, which supports generators.\n",
      "  fit_history = model_vgg16.fit_generator(\n"
     ]
    },
    {
     "name": "stdout",
     "output_type": "stream",
     "text": [
      "Epoch 1/5\n",
      "301/301 [==============================] - 6841s 23s/step - loss: 0.0814 - accuracy: 0.9727 - val_loss: 0.0227 - val_accuracy: 0.9952\n",
      "Epoch 2/5\n",
      "301/301 [==============================] - 6796s 23s/step - loss: 0.0177 - accuracy: 0.9963 - val_loss: 0.0137 - val_accuracy: 0.9965\n",
      "Epoch 3/5\n",
      "301/301 [==============================] - 6824s 23s/step - loss: 0.0120 - accuracy: 0.9971 - val_loss: 0.0107 - val_accuracy: 0.9965\n",
      "Epoch 4/5\n",
      "301/301 [==============================] - 6454s 21s/step - loss: 0.0095 - accuracy: 0.9977 - val_loss: 0.0086 - val_accuracy: 0.9975\n",
      "Epoch 5/5\n",
      "301/301 [==============================] - 6452s 21s/step - loss: 0.0078 - accuracy: 0.9981 - val_loss: 0.0077 - val_accuracy: 0.9983\n"
     ]
    }
   ],
   "source": [
    "num_epochs=5\n",
    "steps_per_epoch_training = len(TrainGentr)\n",
    "steps_per_epoch_validation = len(ValGentr)\n",
    "\n",
    "fit_history = model_vgg16.fit_generator(\n",
    "    TrainGentr,\n",
    "    steps_per_epoch=steps_per_epoch_training,\n",
    "    epochs=num_epochs,\n",
    "    validation_data=ValGentr,\n",
    "    validation_steps=steps_per_epoch_validation,\n",
    "    verbose=1,\n",
    ")"
   ]
  },
  {
   "cell_type": "markdown",
   "metadata": {},
   "source": [
    "\n",
    "   "
   ]
  },
  {
   "cell_type": "markdown",
   "metadata": {},
   "source": [
    "<a id=\"item43\"></a>"
   ]
  },
  {
   "cell_type": "markdown",
   "metadata": {},
   "source": [
    "## Part 2"
   ]
  },
  {
   "cell_type": "markdown",
   "metadata": {},
   "source": [
    "In this part, we will evaluate the deep learning models VGG16 and ResNet50 on a test data. For this part, you will need to do the following:\n",
    "\n",
    "1. Load our saved model that was built using the ResNet50 model. \n",
    "2. Construct an ImageDataGenerator for the test set. For this ImageDataGenerator instance, we only need to pass the directory of the test images, target size, and the **shuffle** parameter and set it to False.\n",
    "3. We use the **evaluate** method to evaluate our models on the test data, by passing the above ImageDataGenerator as an argument. We will learn more about **evaluate** [here](https://keras.io/models/sequential/).\n",
    "4. We need to print the performance of the classifier using the VGG16 pre-trained model.\n",
    "5. We need to print the performance of the classifier using the ResNet pre-trained model.\n"
   ]
  },
  {
   "cell_type": "markdown",
   "metadata": {},
   "source": [
    "Use the following cells to evaluate your models."
   ]
  },
  {
   "cell_type": "code",
   "execution_count": 6,
   "metadata": {},
   "outputs": [],
   "source": [
    "# Loading VGG16 classifier\n",
    "model_vgg16_=keras.models.load_model('./Src/KerasClassifier_VGG16_model.h5')\n",
    "model_resnet50_=keras.models.load_model('./Src/KerasClassifier_ResNet50_model.h5')"
   ]
  },
  {
   "cell_type": "markdown",
   "metadata": {},
   "source": [
    "###### Prepare test data for part two and three, where we validate and test the model with different data set than train step"
   ]
  },
  {
   "cell_type": "code",
   "execution_count": 7,
   "metadata": {},
   "outputs": [
    {
     "name": "stdout",
     "output_type": "stream",
     "text": [
      "Found 500 images belonging to 2 classes.\n",
      "5\n"
     ]
    }
   ],
   "source": [
    "batch_size_test=100\n",
    "TestGentr = ImgGentr.flow_from_directory('./Src/Data/concrete_data_week4/test/',\n",
    "                     batch_size=batch_size_test,\n",
    "                     target_size=(image_resize, image_resize),\n",
    "                     shuffle=True,\n",
    "                     class_mode='categorical')\n",
    "\n",
    "steps_per_epoch_test = len(TestGentr)\n",
    "print(steps_per_epoch_test)"
   ]
  },
  {
   "cell_type": "markdown",
   "metadata": {},
   "source": [
    "##### Model evaluation with VGG16"
   ]
  },
  {
   "cell_type": "code",
   "execution_count": 7,
   "metadata": {},
   "outputs": [
    {
     "name": "stdout",
     "output_type": "stream",
     "text": [
      "5/5 [==============================] - 64s 13s/step - loss: 0.0074 - accuracy: 0.9980\n"
     ]
    }
   ],
   "source": [
    "eval_hist_vgg16=model_vgg16_.evaluate(\n",
    "            TestGentr,\n",
    "            steps=steps_per_epoch_test,\n",
    "            use_multiprocessing=False,\n",
    "            verbose=1)"
   ]
  },
  {
   "cell_type": "markdown",
   "metadata": {},
   "source": [
    "##### Model evaluation with ResNet50"
   ]
  },
  {
   "cell_type": "code",
   "execution_count": 8,
   "metadata": {
    "lines_to_next_cell": 0
   },
   "outputs": [
    {
     "name": "stdout",
     "output_type": "stream",
     "text": [
      "5/5 [==============================] - 37s 5s/step - loss: 0.0015 - accuracy: 1.0000\n"
     ]
    }
   ],
   "source": [
    "eval_hist_restnet50=model_resnet50_.evaluate(\n",
    "            TestGentr,\n",
    "            steps=steps_per_epoch_test,\n",
    "            use_multiprocessing=True,\n",
    "            verbose=1)"
   ]
  },
  {
   "cell_type": "markdown",
   "metadata": {},
   "source": [
    "\n",
    "   "
   ]
  },
  {
   "cell_type": "markdown",
   "metadata": {},
   "source": [
    "<a id=\"item44\"></a>"
   ]
  },
  {
   "cell_type": "markdown",
   "metadata": {},
   "source": [
    "## Part 3"
   ]
  },
  {
   "cell_type": "markdown",
   "metadata": {},
   "source": [
    "In this model, we will predict whether the images in the test data are images of cracked concrete or not. We will do the following:\n",
    "\n",
    "1. We will use the **predict** method to predict the class of the images in the test data, by passing the test data ImageDataGenerator instance defined in the previous part as an argument. We can learn more about the **predict_generator** method [here](https://keras.io/models/sequential/).\n",
    "2. Report the class predictions of the first five images in the test set.\n",
    "\n",
    "<center>\n",
    "    <ul style=\"list-style-type:none\">\n",
    "        <li>Positive</li>  \n",
    "        <li>Negative</li> \n",
    "        <li>Positive</li>\n",
    "        <li>Positive</li>\n",
    "        <li>Negative</li>\n",
    "    </ul>\n",
    "</center>"
   ]
  },
  {
   "cell_type": "markdown",
   "metadata": {},
   "source": [
    "Use the following cells to make your predictions."
   ]
  },
  {
   "cell_type": "markdown",
   "metadata": {},
   "source": [
    "##### Prediction with VGG16 Model"
   ]
  },
  {
   "cell_type": "code",
   "execution_count": 9,
   "metadata": {},
   "outputs": [],
   "source": [
    "pred_hist_vgg16=model_vgg16_.predict(\n",
    "            TestGentr)"
   ]
  },
  {
   "cell_type": "code",
   "execution_count": 10,
   "metadata": {},
   "outputs": [
    {
     "name": "stdout",
     "output_type": "stream",
     "text": [
      "y : positive & yhat : negative\n",
      "\n",
      "y : negative & yhat : positive\n",
      "\n",
      "y : negative & yhat : negative\n",
      "\n",
      "y : positive & yhat : positive\n",
      "\n",
      "y : negative & yhat : negative\n",
      "\n"
     ]
    }
   ],
   "source": [
    "yhat=np.argmax(pred_hist_vgg16, axis=1)\n",
    "y=np.argmax(TestGentr[0][1], axis=1)\n",
    "\n",
    "#Collecting class index and corresponding class\n",
    "cls_ind = TestGentr.class_indices\n",
    "IndToCls = {cls_ind[key]: key for key in cls_ind.keys()}\n",
    "\n",
    "for y_, yhat_ in zip(y[0:5],yhat[0:5]):\n",
    "    print(f'y : {IndToCls[y_]} & yhat : {IndToCls[yhat_]}\\n')\n",
    "    "
   ]
  },
  {
   "cell_type": "markdown",
   "metadata": {},
   "source": [
    "##### Predition with ResNet50 Model"
   ]
  },
  {
   "cell_type": "code",
   "execution_count": 57,
   "metadata": {},
   "outputs": [
    {
     "name": "stdout",
     "output_type": "stream",
     "text": [
      "5/5 [==============================] - 5s 930ms/step\n"
     ]
    }
   ],
   "source": [
    "pred_hist_resnet50=model_resnet50_.predict(\n",
    "            TestGentr[0][0])"
   ]
  },
  {
   "cell_type": "code",
   "execution_count": 58,
   "metadata": {},
   "outputs": [
    {
     "name": "stdout",
     "output_type": "stream",
     "text": [
      "y : negative & yhat : negative\n",
      "\n",
      "y : positive & yhat : positive\n",
      "\n",
      "y : positive & yhat : positive\n",
      "\n",
      "y : positive & yhat : positive\n",
      "\n",
      "y : positive & yhat : positive\n",
      "\n"
     ]
    }
   ],
   "source": [
    "yhat=np.argmax(pred_hist_resnet50, axis=1)\n",
    "y=np.argmax(TestGentr[0][1], axis=1)\n",
    "\n",
    "#Collecting class index and corresponding class\n",
    "cls_ind = TestGentr.class_indices\n",
    "IndToCls = {cls_ind[key]: key for key in cls_ind.keys()}\n",
    "\n",
    "for y_, yhat_ in zip(y[0:5],yhat[0:5]):\n",
    "    print(f'y : {IndToCls[y_]} & yhat : {IndToCls[yhat_]}\\n')"
   ]
  },
  {
   "cell_type": "markdown",
   "metadata": {},
   "source": [
    "#### Comments: \n",
    "1. According to the result from part-2 ResNet50 renders more accurate result than VGG16.\n",
    "2. ResNet50 consumes less time compare to the VGG16 model.\n",
    "\n",
    "\n",
    "  "
   ]
  },
  {
   "cell_type": "markdown",
   "metadata": {
    "button": false,
    "new_sheet": false,
    "run_control": {
     "read_only": false
    }
   },
   "source": [
    "### Thank you for completing this lab!\n",
    "\n",
    "This notebook was created by Alex Aklson."
   ]
  },
  {
   "cell_type": "markdown",
   "metadata": {
    "button": false,
    "new_sheet": false,
    "run_control": {
     "read_only": false
    }
   },
   "source": [
    "This notebook is part of a course on **Coursera** called *AI Capstone Project with Deep Learning*. If you accessed this notebook outside the course, you can take this course online by clicking [here](https://cocl.us/DL0321EN_Coursera_Week4_LAB1)."
   ]
  },
  {
   "cell_type": "markdown",
   "metadata": {
    "button": false,
    "new_sheet": false,
    "run_control": {
     "read_only": false
    }
   },
   "source": [
    "<hr>\n",
    "\n",
    "Copyright &copy; 2020 [IBM Developer Skills Network](https://cognitiveclass.ai/?utm_source=bducopyrightlink&utm_medium=dswb&utm_campaign=bdu). This notebook and its source code are released under the terms of the [MIT License](https://bigdatauniversity.com/mit-license/)."
   ]
  }
 ],
 "metadata": {
  "kernelspec": {
   "display_name": "Python 3",
   "language": "python",
   "name": "python3"
  },
  "language_info": {
   "codemirror_mode": {
    "name": "ipython",
    "version": 3
   },
   "file_extension": ".py",
   "mimetype": "text/x-python",
   "name": "python",
   "nbconvert_exporter": "python",
   "pygments_lexer": "ipython3",
   "version": "3.8.10"
  }
 },
 "nbformat": 4,
 "nbformat_minor": 4
}
